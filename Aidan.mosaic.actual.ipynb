{
 "cells": [
  {
   "cell_type": "code",
   "execution_count": 13,
   "metadata": {},
   "outputs": [
    {
     "data": {
      "text/html": [
       "<style>\n",
       ".cell-output-ipywidget-background {\n",
       "    background-color: transparent !important;\n",
       "}\n",
       ":root {\n",
       "    --jp-widgets-color: var(--vscode-editor-foreground);\n",
       "    --jp-widgets-font-size: var(--vscode-editor-font-size);\n",
       "}  \n",
       "\n",
       "</style>\n"
      ],
      "text/plain": [
       "<IPython.core.display.HTML object>"
      ]
     },
     "metadata": {},
     "output_type": "display_data"
    }
   ],
   "source": [
    "%%html\n",
    "<style>\n",
    ".cell-output-ipywidget-background {\n",
    "    background-color: transparent !important;\n",
    "}\n",
    ":root {\n",
    "    --jp-widgets-color: var(--vscode-editor-foreground);\n",
    "    --jp-widgets-font-size: var(--vscode-editor-font-size);\n",
    "}  \n",
    "\n",
    "</style>"
   ]
  },
  {
   "cell_type": "code",
   "execution_count": 14,
   "metadata": {},
   "outputs": [],
   "source": [
    "import datetime\n",
    "import pyaurorax\n",
    "import cartopy.crs\n",
    "\n",
    "aurorax = pyaurorax.PyAuroraX()\n",
    "at = aurorax.tools"
   ]
  },
  {
   "cell_type": "markdown",
   "metadata": {},
   "source": [
    "### **Step 1: Download and Read Necessary Data**"
   ]
  },
  {
   "cell_type": "code",
   "execution_count": 15,
   "metadata": {},
   "outputs": [
    {
     "data": {
      "application/vnd.jupyter.widget-view+json": {
       "model_id": "d33d607f6e4b45d29a27c0b59c2b1102",
       "version_major": 2,
       "version_minor": 0
      },
      "text/plain": [
       "Downloading TREX_RGB_RAW_NOMINAL files: 0.00B [00:00, ?B/s]"
      ]
     },
     "metadata": {},
     "output_type": "display_data"
    },
    {
     "data": {
      "application/vnd.jupyter.widget-view+json": {
       "model_id": "dd66498ef522416bba70b93f80b55bc9",
       "version_major": 2,
       "version_minor": 0
      },
      "text/plain": [
       "Downloading TREX_RGB_RAW_NOMINAL files:   0%|          | 0.00/6.55M [00:00<?, ?B/s]"
      ]
     },
     "metadata": {},
     "output_type": "display_data"
    },
    {
     "data": {
      "application/vnd.jupyter.widget-view+json": {
       "model_id": "19f176db0dc84147aa22d42b0cb0e32f",
       "version_major": 2,
       "version_minor": 0
      },
      "text/plain": [
       "Downloading TREX_RGB_RAW_NOMINAL files: 0.00B [00:00, ?B/s]"
      ]
     },
     "metadata": {},
     "output_type": "display_data"
    },
    {
     "data": {
      "application/vnd.jupyter.widget-view+json": {
       "model_id": "bd2b1aecc3f94dd39f2d20ee2e098ec2",
       "version_major": 2,
       "version_minor": 0
      },
      "text/plain": [
       "Downloading TREX_RGB_RAW_NOMINAL files:   0%|          | 0.00/6.36M [00:00<?, ?B/s]"
      ]
     },
     "metadata": {},
     "output_type": "display_data"
    },
    {
     "data": {
      "application/vnd.jupyter.widget-view+json": {
       "model_id": "fb1070691cba4155875593334871631a",
       "version_major": 2,
       "version_minor": 0
      },
      "text/plain": [
       "Downloading TREX_RGB_RAW_NOMINAL files: 0.00B [00:00, ?B/s]"
      ]
     },
     "metadata": {},
     "output_type": "display_data"
    },
    {
     "data": {
      "application/vnd.jupyter.widget-view+json": {
       "model_id": "278cdf9160774078b0decc6f487fca72",
       "version_major": 2,
       "version_minor": 0
      },
      "text/plain": [
       "Downloading TREX_RGB_RAW_NOMINAL files: 0.00B [00:00, ?B/s]"
      ]
     },
     "metadata": {},
     "output_type": "display_data"
    },
    {
     "name": "stdout",
     "output_type": "stream",
     "text": [
      "No files found to read\n",
      "No files found to read\n",
      "No files found to read\n",
      "No files found to read\n"
     ]
    }
   ],
   "source": [
    "# download a minute of RGB data from several sites\n",
    "dataset_name = \"TREX_RGB_RAW_NOMINAL\"\n",
    "start_dt = datetime.datetime(2022, 2, 20, 1, 12)\n",
    "end_dt = start_dt\n",
    "site_uid_list = ['fsmi', 'gill', 'luck', 'pina', 'atha', 'rabb']\n",
    "data_download_objs = {}\n",
    "for site_uid in site_uid_list:\n",
    "    download_obj = aurorax.data.ucalgary.download(dataset_name, start_dt, end_dt, site_uid=site_uid)\n",
    "    data_download_objs[site_uid] = download_obj\n",
    "\n",
    "# Read in the data site-by-site, as we need this separation for mosaicing\n",
    "data_list = []\n",
    "for site_uid, download_obj in data_download_objs.items():\n",
    "    data_list.append(aurorax.data.ucalgary.read(download_obj.dataset, download_obj.filenames))"
   ]
  },
  {
   "cell_type": "markdown",
   "metadata": {},
   "source": [
    "### **Step 2: Download Skymaps**"
   ]
  },
  {
   "cell_type": "code",
   "execution_count": 9,
   "metadata": {},
   "outputs": [
    {
     "data": {
      "application/vnd.jupyter.widget-view+json": {
       "model_id": "5408c2797f5c4454b3cfaf7889a43237",
       "version_major": 2,
       "version_minor": 0
      },
      "text/plain": [
       "Downloading TREX_RGB_SKYMAP_IDLSAV files:   0%|          | 0.00/28.3M [00:00<?, ?B/s]"
      ]
     },
     "metadata": {},
     "output_type": "display_data"
    },
    {
     "data": {
      "application/vnd.jupyter.widget-view+json": {
       "model_id": "73912f1921814462b4837c473760311e",
       "version_major": 2,
       "version_minor": 0
      },
      "text/plain": [
       "Downloading TREX_RGB_SKYMAP_IDLSAV files:   0%|          | 0.00/42.4M [00:00<?, ?B/s]"
      ]
     },
     "metadata": {},
     "output_type": "display_data"
    },
    {
     "data": {
      "application/vnd.jupyter.widget-view+json": {
       "model_id": "e239111d3f964711982347f297d4bb9b",
       "version_major": 2,
       "version_minor": 0
      },
      "text/plain": [
       "Downloading TREX_RGB_SKYMAP_IDLSAV files:   0%|          | 0.00/141M [00:00<?, ?B/s]"
      ]
     },
     "metadata": {},
     "output_type": "display_data"
    },
    {
     "data": {
      "application/vnd.jupyter.widget-view+json": {
       "model_id": "5a63046be7234c5c926e0fc53b015368",
       "version_major": 2,
       "version_minor": 0
      },
      "text/plain": [
       "Downloading TREX_RGB_SKYMAP_IDLSAV files:   0%|          | 0.00/56.6M [00:00<?, ?B/s]"
      ]
     },
     "metadata": {},
     "output_type": "display_data"
    },
    {
     "data": {
      "application/vnd.jupyter.widget-view+json": {
       "model_id": "63d2c2d87ddf4d5dac1b5ca137ba49d0",
       "version_major": 2,
       "version_minor": 0
      },
      "text/plain": [
       "Downloading TREX_RGB_SKYMAP_IDLSAV files:   0%|          | 0.00/14.1M [00:00<?, ?B/s]"
      ]
     },
     "metadata": {},
     "output_type": "display_data"
    },
    {
     "data": {
      "application/vnd.jupyter.widget-view+json": {
       "model_id": "6f5d18bea4c84195b8795292654151cd",
       "version_major": 2,
       "version_minor": 0
      },
      "text/plain": [
       "Downloading TREX_RGB_SKYMAP_IDLSAV files:   0%|          | 0.00/70.7M [00:00<?, ?B/s]"
      ]
     },
     "metadata": {},
     "output_type": "display_data"
    },
    {
     "data": {
      "text/plain": [
       "[Skymap(project_uid=rgb, site_uid=fsmi, imager_uid=rgb-01, site_map_latitude=60.026112, site_map_longitude=248.067062, ...),\n",
       " Skymap(project_uid=rgb, site_uid=gill, imager_uid=rgb-04, site_map_latitude=56.376724, site_map_longitude=265.356323, ...),\n",
       " Skymap(project_uid=rgb, site_uid=luck, imager_uid=rgb-03, site_map_latitude=51.153988, site_map_longitude=252.735260, ...),\n",
       " Skymap(project_uid=rgb, site_uid=pina, imager_uid=rgb-02, site_map_latitude=50.258812, site_map_longitude=264.134827, ...),\n",
       " Skymap(project_uid=rgb, site_uid=atha, imager_uid=rgb-07, site_map_latitude=54.602631, site_map_longitude=246.355728, ...),\n",
       " Skymap(project_uid=rgb, site_uid=rabb, imager_uid=rgb-06, site_map_latitude=58.227810, site_map_longitude=256.319366, ...)]"
      ]
     },
     "execution_count": 9,
     "metadata": {},
     "output_type": "execute_result"
    }
   ],
   "source": [
    "# Get list of all skymaps in previous two years up to date of interest for each site\n",
    "skymap_download_objs = {}\n",
    "for site_uid in site_uid_list:\n",
    "    download_obj = aurorax.data.ucalgary.download(\n",
    "        \"TREX_RGB_SKYMAP_IDLSAV\",\n",
    "        start_dt.replace(year=start_dt.year-2),\n",
    "        start_dt,\n",
    "        site_uid=site_uid,\n",
    "    )\n",
    "    skymap_download_objs[site_uid] = download_obj\n",
    "\n",
    "# Read and store the last list index skymap for each site, as that is most recent to the date of interest\n",
    "skymaps = []\n",
    "for site_uid, download_obj in skymap_download_objs.items():\n",
    "\n",
    "    skymap = aurorax.data.ucalgary.read(download_obj.dataset, download_obj.filenames[-1])\n",
    "    skymaps.append(skymap.data[0])\n",
    "\n",
    "skymaps"
   ]
  },
  {
   "cell_type": "markdown",
   "metadata": {},
   "source": [
    "### **Step 3: Prep Skymap and Image Data**"
   ]
  },
  {
   "cell_type": "code",
   "execution_count": 10,
   "metadata": {},
   "outputs": [
    {
     "data": {
      "application/vnd.jupyter.widget-view+json": {
       "model_id": "544e5733d4184668bcb3c3675c8dacb8",
       "version_major": 2,
       "version_minor": 0
      },
      "text/plain": [
       "Preparing skymaps:   0%|          | 0/6 [00:00<?, ?skymap/s]"
      ]
     },
     "metadata": {},
     "output_type": "display_data"
    },
    {
     "data": {
      "text/plain": [
       "MosaicSkymap(polyfill_lat=array(dims=(5, 265440), dtype=float64), polyfill_lon=array(dims=(5, 265440), dtype=float64), elevation=array(dims=(265440,), dtype=float32), site_uid_list=['fsmi', 'gill', 'luck', 'pina', 'atha', 'rabb'])"
      ]
     },
     "execution_count": 10,
     "metadata": {},
     "output_type": "execute_result"
    }
   ],
   "source": [
    "# prepare the skymap data\n",
    "prepped_skymap = at.mosaic.prep_skymaps(skymaps, 110, n_parallel=5)\n",
    "prepped_skymap"
   ]
  },
  {
   "cell_type": "code",
   "execution_count": 11,
   "metadata": {},
   "outputs": [
    {
     "ename": "IndexError",
     "evalue": "list index out of range",
     "output_type": "error",
     "traceback": [
      "\u001b[0;31m---------------------------------------------------------------------------\u001b[0m",
      "\u001b[0;31mIndexError\u001b[0m                                Traceback (most recent call last)",
      "Cell \u001b[0;32mIn[11], line 2\u001b[0m\n\u001b[1;32m      1\u001b[0m \u001b[38;5;66;03m# prepare the image data\u001b[39;00m\n\u001b[0;32m----> 2\u001b[0m prepped_images \u001b[38;5;241m=\u001b[39m at\u001b[38;5;241m.\u001b[39mmosaic\u001b[38;5;241m.\u001b[39mprep_images(data_list)\n\u001b[1;32m      3\u001b[0m prepped_images\n",
      "File \u001b[0;32m/opt/anaconda3/lib/python3.11/site-packages/pyaurorax/tools/mosaic/_prep_images.py:111\u001b[0m, in \u001b[0;36mprep_images\u001b[0;34m(image_list, data_attribute)\u001b[0m\n\u001b[1;32m     99\u001b[0m     \u001b[38;5;28;01mraise\u001b[39;00m \u001b[38;5;167;01mValueError\u001b[39;00m(\u001b[38;5;124m\"\u001b[39m\u001b[38;5;124mInvalid \u001b[39m\u001b[38;5;124m'\u001b[39m\u001b[38;5;124mdata_attribute\u001b[39m\u001b[38;5;124m'\u001b[39m\u001b[38;5;124m parameter. Must be either \u001b[39m\u001b[38;5;124m'\u001b[39m\u001b[38;5;124mdata\u001b[39m\u001b[38;5;124m'\u001b[39m\u001b[38;5;124m or \u001b[39m\u001b[38;5;124m'\u001b[39m\u001b[38;5;124mcalibrated_data\u001b[39m\u001b[38;5;124m'\u001b[39m\u001b[38;5;124m.\u001b[39m\u001b[38;5;124m\"\u001b[39m)\n\u001b[1;32m    101\u001b[0m \u001b[38;5;66;03m# determine the number of expected frames\u001b[39;00m\n\u001b[1;32m    102\u001b[0m \u001b[38;5;66;03m#\u001b[39;00m\n\u001b[1;32m    103\u001b[0m \u001b[38;5;66;03m# NOTE: this is done to ensure that the eventual image arrays are all the\u001b[39;00m\n\u001b[0;32m   (...)\u001b[0m\n\u001b[1;32m    109\u001b[0m \u001b[38;5;66;03m#   3) determine the number of expected frames using the cadence, start and end\u001b[39;00m\n\u001b[1;32m    110\u001b[0m \u001b[38;5;66;03m#\u001b[39;00m\n\u001b[0;32m--> 111\u001b[0m start_dt \u001b[38;5;241m=\u001b[39m image_list[\u001b[38;5;241m0\u001b[39m]\u001b[38;5;241m.\u001b[39mtimestamp[\u001b[38;5;241m0\u001b[39m]\n\u001b[1;32m    112\u001b[0m end_dt \u001b[38;5;241m=\u001b[39m image_list[\u001b[38;5;241m0\u001b[39m]\u001b[38;5;241m.\u001b[39mtimestamp[\u001b[38;5;241m-\u001b[39m\u001b[38;5;241m1\u001b[39m]\n\u001b[1;32m    113\u001b[0m \u001b[38;5;28;01mfor\u001b[39;00m site_data \u001b[38;5;129;01min\u001b[39;00m image_list:\n",
      "\u001b[0;31mIndexError\u001b[0m: list index out of range"
     ]
    }
   ],
   "source": [
    "# prepare the image data\n",
    "prepped_images = at.mosaic.prep_images(data_list)\n",
    "prepped_images"
   ]
  },
  {
   "cell_type": "markdown",
   "metadata": {},
   "source": [
    "### **Step 4: Generate the Mosaic**"
   ]
  },
  {
   "cell_type": "code",
   "execution_count": null,
   "metadata": {},
   "outputs": [],
   "source": [
    "# define the intensity scales for each site\n",
    "scale = {\n",
    "    \"fsmi\": [10, 75],\n",
    "    \"gill\": [10, 105],\n",
    "    \"rabb\": [10, 110],\n",
    "    \"luck\": [1, 45],\n",
    "    \"atha\": [1, 105],\n",
    "    \"pina\": [1, 60],\n",
    "}\n",
    "\n",
    "# Set timestamp to actually create mosaic frame for\n",
    "mosaic_dt = datetime.datetime(2022, 4, 10, 5, 25)\n",
    "\n",
    "# create projection\n",
    "center_lat = -100.0\n",
    "center_lon = 55.0\n",
    "projection_obj = cartopy.crs.NearsidePerspective(central_longitude=center_lat, central_latitude=center_lon)\n",
    "\n",
    "# create mosaic\n",
    "frame_num = 0\n",
    "mosaic = at.mosaic.create(prepped_images, prepped_skymap, mosaic_dt, projection_obj, image_intensity_scales=scale)\n",
    "print(mosaic)"
   ]
  },
  {
   "cell_type": "code",
   "execution_count": 12,
   "metadata": {},
   "outputs": [
    {
     "ename": "NameError",
     "evalue": "name 'mosaic' is not defined",
     "output_type": "error",
     "traceback": [
      "\u001b[0;31m---------------------------------------------------------------------------\u001b[0m",
      "\u001b[0;31mNameError\u001b[0m                                 Traceback (most recent call last)",
      "Cell \u001b[0;32mIn[12], line 3\u001b[0m\n\u001b[1;32m      1\u001b[0m \u001b[38;5;66;03m# plot mosaic - fsmi change\u001b[39;00m\n\u001b[1;32m      2\u001b[0m map_extent \u001b[38;5;241m=\u001b[39m [\u001b[38;5;241m-\u001b[39m\u001b[38;5;241m128\u001b[39m, \u001b[38;5;241m-\u001b[39m\u001b[38;5;241m75\u001b[39m, \u001b[38;5;241m38\u001b[39m, \u001b[38;5;241m75\u001b[39m]\n\u001b[0;32m----> 3\u001b[0m mosaic\u001b[38;5;241m.\u001b[39mplot(map_extent, title\u001b[38;5;241m=\u001b[39m\u001b[38;5;124m\"\u001b[39m\u001b[38;5;124mTREx RGB - \u001b[39m\u001b[38;5;132;01m%s\u001b[39;00m\u001b[38;5;124m\"\u001b[39m \u001b[38;5;241m%\u001b[39m (mosaic_dt\u001b[38;5;241m.\u001b[39mstrftime(\u001b[38;5;124m\"\u001b[39m\u001b[38;5;124m%\u001b[39m\u001b[38;5;124mY-\u001b[39m\u001b[38;5;124m%\u001b[39m\u001b[38;5;124mm-\u001b[39m\u001b[38;5;132;01m%d\u001b[39;00m\u001b[38;5;124m \u001b[39m\u001b[38;5;124m%\u001b[39m\u001b[38;5;124mH:\u001b[39m\u001b[38;5;124m%\u001b[39m\u001b[38;5;124mM:\u001b[39m\u001b[38;5;124m%\u001b[39m\u001b[38;5;124mS\u001b[39m\u001b[38;5;124m\"\u001b[39m)))\n",
      "\u001b[0;31mNameError\u001b[0m: name 'mosaic' is not defined"
     ]
    }
   ],
   "source": [
    "# plot mosaic - fsmi change\n",
    "map_extent = [-128, -75, 38, 75]\n",
    "mosaic.plot(map_extent, title=\"TREx RGB - %s\" % (mosaic_dt.strftime(\"%Y-%m-%d %H:%M:%S\")))"
   ]
  },
  {
   "cell_type": "code",
   "execution_count": null,
   "metadata": {},
   "outputs": [],
   "source": []
  }
 ],
 "metadata": {
  "kernelspec": {
   "display_name": "Python 3 (ipykernel)",
   "language": "python",
   "name": "python3"
  },
  "language_info": {
   "codemirror_mode": {
    "name": "ipython",
    "version": 3
   },
   "file_extension": ".py",
   "mimetype": "text/x-python",
   "name": "python",
   "nbconvert_exporter": "python",
   "pygments_lexer": "ipython3",
   "version": "3.11.8"
  }
 },
 "nbformat": 4,
 "nbformat_minor": 4
}
