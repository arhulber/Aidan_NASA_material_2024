{
 "cells": [
  {
   "cell_type": "markdown",
   "metadata": {},
   "source": [
    "<center>\n",
    "<table>\n",
    "  <tr>\n",
    "    <td><img src=\"https://portal.nccs.nasa.gov/datashare/astg/training/python/logos/nasa-logo.svg\" width=\"100\"/> </td>\n",
    "     <td><img src=\"https://portal.nccs.nasa.gov/datashare/astg/training/python/logos/ASTG_logo.png?raw=true\" width=\"80\"/> </td>\n",
    "     <td> <img src=\"https://www.nccs.nasa.gov/sites/default/files/NCCS_Logo_0.png\" width=\"130\"/> </td>\n",
    "    </tr>\n",
    "</table>\n",
    "</center>\n",
    "\n",
    "        \n",
    "<center>\n",
    "<h1><font color= \"blue\" size=\"+3\">ASTG Python Courses</font></h1>\n",
    "</center>\n",
    "\n",
    "---\n",
    "<center>\n",
    "<H1>\n",
    "    <font color=\"red\">File Input and Output (IO)</font>\n",
    "</H1>\n",
    "</center>\n"
   ]
  },
  {
   "cell_type": "markdown",
   "metadata": {},
   "source": [
    "## <font color='red'>Types of Files</font>\n",
    "\n",
    "![file](https://portal.nccs.nasa.gov/datashare/astg/training/python/io/fileFormats.jpg)"
   ]
  },
  {
   "cell_type": "markdown",
   "metadata": {},
   "source": [
    "## <font color=\"red\"> Text Files</font>\n",
    "\n",
    "A **text file** has no specific encoding and can be opened by a standard text editor without any special handling. Every text file must adhere to a set of rules:\n",
    "\n",
    "* Text files have to be readable as is.\n",
    "* Data in a text file is organized by lines. \n",
    "* Text files all have an unseen character at the end of each line which lets the text editor know that there should be a new line. When interacting with these files, you can take advantage of that character. In Python, it is denoted by the `“\\n”`."
   ]
  },
  {
   "cell_type": "markdown",
   "metadata": {
    "slideshow": {
     "slide_type": "-"
    }
   },
   "source": [
    "## <font color=\"red\">Reading Text Files</font>\n",
    "\n",
    "* Before you can read (or write) a file, you have to open it using Python's built-in `open()` function. \n",
    "* The `open()` function creates a file object, which would be utilized to call other support methods associated with it."
   ]
  },
  {
   "cell_type": "code",
   "execution_count": 5,
   "metadata": {
    "slideshow": {
     "slide_type": "-"
    }
   },
   "outputs": [
    {
     "name": "stdout",
     "output_type": "stream",
     "text": [
      "Help on function open in module io:\n",
      "\n",
      "open(file, mode='r', buffering=-1, encoding=None, errors=None, newline=None, closefd=True, opener=None)\n",
      "    Open file and return a stream.  Raise OSError upon failure.\n",
      "    \n",
      "    file is either a text or byte string giving the name (and the path\n",
      "    if the file isn't in the current working directory) of the file to\n",
      "    be opened or an integer file descriptor of the file to be\n",
      "    wrapped. (If a file descriptor is given, it is closed when the\n",
      "    returned I/O object is closed, unless closefd is set to False.)\n",
      "    \n",
      "    mode is an optional string that specifies the mode in which the file\n",
      "    is opened. It defaults to 'r' which means open for reading in text\n",
      "    mode.  Other common values are 'w' for writing (truncating the file if\n",
      "    it already exists), 'x' for creating and writing to a new file, and\n",
      "    'a' for appending (which on some Unix systems, means that all writes\n",
      "    append to the end of the file regardless of the current seek position).\n",
      "    In text mode, if encoding is not specified the encoding used is platform\n",
      "    dependent: locale.getencoding() is called to get the current locale encoding.\n",
      "    (For reading and writing raw bytes use binary mode and leave encoding\n",
      "    unspecified.) The available modes are:\n",
      "    \n",
      "    ========= ===============================================================\n",
      "    Character Meaning\n",
      "    --------- ---------------------------------------------------------------\n",
      "    'r'       open for reading (default)\n",
      "    'w'       open for writing, truncating the file first\n",
      "    'x'       create a new file and open it for writing\n",
      "    'a'       open for writing, appending to the end of the file if it exists\n",
      "    'b'       binary mode\n",
      "    't'       text mode (default)\n",
      "    '+'       open a disk file for updating (reading and writing)\n",
      "    ========= ===============================================================\n",
      "    \n",
      "    The default mode is 'rt' (open for reading text). For binary random\n",
      "    access, the mode 'w+b' opens and truncates the file to 0 bytes, while\n",
      "    'r+b' opens the file without truncation. The 'x' mode implies 'w' and\n",
      "    raises an `FileExistsError` if the file already exists.\n",
      "    \n",
      "    Python distinguishes between files opened in binary and text modes,\n",
      "    even when the underlying operating system doesn't. Files opened in\n",
      "    binary mode (appending 'b' to the mode argument) return contents as\n",
      "    bytes objects without any decoding. In text mode (the default, or when\n",
      "    't' is appended to the mode argument), the contents of the file are\n",
      "    returned as strings, the bytes having been first decoded using a\n",
      "    platform-dependent encoding or using the specified encoding if given.\n",
      "    \n",
      "    buffering is an optional integer used to set the buffering policy.\n",
      "    Pass 0 to switch buffering off (only allowed in binary mode), 1 to select\n",
      "    line buffering (only usable in text mode), and an integer > 1 to indicate\n",
      "    the size of a fixed-size chunk buffer.  When no buffering argument is\n",
      "    given, the default buffering policy works as follows:\n",
      "    \n",
      "    * Binary files are buffered in fixed-size chunks; the size of the buffer\n",
      "      is chosen using a heuristic trying to determine the underlying device's\n",
      "      \"block size\" and falling back on `io.DEFAULT_BUFFER_SIZE`.\n",
      "      On many systems, the buffer will typically be 4096 or 8192 bytes long.\n",
      "    \n",
      "    * \"Interactive\" text files (files for which isatty() returns True)\n",
      "      use line buffering.  Other text files use the policy described above\n",
      "      for binary files.\n",
      "    \n",
      "    encoding is the name of the encoding used to decode or encode the\n",
      "    file. This should only be used in text mode. The default encoding is\n",
      "    platform dependent, but any encoding supported by Python can be\n",
      "    passed.  See the codecs module for the list of supported encodings.\n",
      "    \n",
      "    errors is an optional string that specifies how encoding errors are to\n",
      "    be handled---this argument should not be used in binary mode. Pass\n",
      "    'strict' to raise a ValueError exception if there is an encoding error\n",
      "    (the default of None has the same effect), or pass 'ignore' to ignore\n",
      "    errors. (Note that ignoring encoding errors can lead to data loss.)\n",
      "    See the documentation for codecs.register or run 'help(codecs.Codec)'\n",
      "    for a list of the permitted encoding error strings.\n",
      "    \n",
      "    newline controls how universal newlines works (it only applies to text\n",
      "    mode). It can be None, '', '\\n', '\\r', and '\\r\\n'.  It works as\n",
      "    follows:\n",
      "    \n",
      "    * On input, if newline is None, universal newlines mode is\n",
      "      enabled. Lines in the input can end in '\\n', '\\r', or '\\r\\n', and\n",
      "      these are translated into '\\n' before being returned to the\n",
      "      caller. If it is '', universal newline mode is enabled, but line\n",
      "      endings are returned to the caller untranslated. If it has any of\n",
      "      the other legal values, input lines are only terminated by the given\n",
      "      string, and the line ending is returned to the caller untranslated.\n",
      "    \n",
      "    * On output, if newline is None, any '\\n' characters written are\n",
      "      translated to the system default line separator, os.linesep. If\n",
      "      newline is '' or '\\n', no translation takes place. If newline is any\n",
      "      of the other legal values, any '\\n' characters written are translated\n",
      "      to the given string.\n",
      "    \n",
      "    If closefd is False, the underlying file descriptor will be kept open\n",
      "    when the file is closed. This does not work when a file name is given\n",
      "    and must be True in that case.\n",
      "    \n",
      "    A custom opener can be used by passing a callable as *opener*. The\n",
      "    underlying file descriptor for the file object is then obtained by\n",
      "    calling *opener* with (*file*, *flags*). *opener* must return an open\n",
      "    file descriptor (passing os.open as *opener* results in functionality\n",
      "    similar to passing None).\n",
      "    \n",
      "    open() returns a file object whose type depends on the mode, and\n",
      "    through which the standard file operations such as reading and writing\n",
      "    are performed. When open() is used to open a file in a text mode ('w',\n",
      "    'r', 'wt', 'rt', etc.), it returns a TextIOWrapper. When used to open\n",
      "    a file in a binary mode, the returned class varies: in read binary\n",
      "    mode, it returns a BufferedReader; in write binary and append binary\n",
      "    modes, it returns a BufferedWriter, and in read/write mode, it returns\n",
      "    a BufferedRandom.\n",
      "    \n",
      "    It is also possible to use a string or bytearray as a file for both\n",
      "    reading and writing. For strings StringIO can be used like a file\n",
      "    opened in a text mode, and for bytes a BytesIO can be used like a file\n",
      "    opened in a binary mode.\n",
      "\n"
     ]
    }
   ],
   "source": [
    "help(open)"
   ]
  },
  {
   "cell_type": "code",
   "execution_count": 6,
   "metadata": {},
   "outputs": [],
   "source": [
    "#Mode is what you want to doi, write a file, read, update, etc. Preset to read. See modes below"
   ]
  },
  {
   "cell_type": "markdown",
   "metadata": {},
   "source": [
    "**The Basic Syntax**\n",
    "\n",
    "```python\n",
    "file object = open(file_name [, access_mode][, buffering])\n",
    "```\n",
    "\n",
    "* `file_name` − The file_name argument is a string value that contains the name of the file that you want to access.\n",
    "* `access_mode` − The access_mode determines the mode in which the file has to be opened, i.e., read, write, append, etc. This is optional parameter and the default file access mode is read (r).\n",
    "* `buffering` − If the buffering value is set to 0, no buffering takes place. If the buffering value is 1, line buffering is performed while accessing a file. If you specify the buffering value as an integer greater than 1, then buffering action is performed with the indicated buffer size. If negative, the buffer size is the system default (default behavior).\n"
   ]
  },
  {
   "cell_type": "markdown",
   "metadata": {},
   "source": [
    "**Summary of  `open()` file access modes**\n",
    "\n",
    "\n",
    "| Mode | Description |\n",
    "| --- | --- |\n",
    "| r | Opens a file for reading only. Default mode. | \n",
    "| rb | Opens a file for reading only in binary format. | \n",
    "| r+ | Opens a file for both reading and writing. |\n",
    "| rb+ | Opens a file for both reading and writing in binary format. |\n",
    "| w | Opens a file for writing only. Overwrites file if it exists. Creates a new file if it does not exist. | \n",
    "| wb | Opens a file for writing only in binary format. |\n",
    "| w+ | Opens a file for both writing and reading. |\n",
    "| wb+ | Opens a file for both writing and reading in binary format. |\n",
    "| a | Opens a file for appending. The file pointer is at the end of the file if it exists. |\n",
    "| ab | Opens a file for appending in binary format. | \n",
    "| a+ | Opens a file for both appending and reading. | \n",
    "| ab+| Opens a file for both appending and reading in binary format. |"
   ]
  },
  {
   "cell_type": "markdown",
   "metadata": {},
   "source": [
    "Obtain the remote file `demo.txt`:"
   ]
  },
  {
   "cell_type": "code",
   "execution_count": 7,
   "metadata": {},
   "outputs": [],
   "source": [
    "file_name = 'demo.txt'"
   ]
  },
  {
   "cell_type": "code",
   "execution_count": 8,
   "metadata": {},
   "outputs": [
    {
     "data": {
      "text/plain": [
       "('demo.txt', <http.client.HTTPMessage at 0x11fd3b050>)"
      ]
     },
     "execution_count": 8,
     "metadata": {},
     "output_type": "execute_result"
    }
   ],
   "source": [
    "import urllib.request\n",
    "url = \"https://raw.githubusercontent.com/astg606/py_materials/master/input_output/\"\n",
    "file_name = \"demo.txt\"\n",
    "urllib.request.urlretrieve(url+file_name, file_name)"
   ]
  },
  {
   "cell_type": "code",
   "execution_count": 9,
   "metadata": {
    "slideshow": {
     "slide_type": "-"
    }
   },
   "outputs": [],
   "source": [
    "file_object = open('demo.txt', 'r') # 'r' is default"
   ]
  },
  {
   "cell_type": "markdown",
   "metadata": {
    "slideshow": {
     "slide_type": "-"
    }
   },
   "source": [
    "A file_object can be treated as a sequence of strings"
   ]
  },
  {
   "cell_type": "markdown",
   "metadata": {},
   "source": [
    "#### What type of object is file_object?"
   ]
  },
  {
   "cell_type": "code",
   "execution_count": 10,
   "metadata": {},
   "outputs": [
    {
     "name": "stdout",
     "output_type": "stream",
     "text": [
      "file_object is of type: <class '_io.TextIOWrapper'>\n"
     ]
    }
   ],
   "source": [
    "print(f\"file_object is of type: {type(file_object)}\")"
   ]
  },
  {
   "cell_type": "code",
   "execution_count": 11,
   "metadata": {},
   "outputs": [
    {
     "data": {
      "text/plain": [
       "'demo.txt'"
      ]
     },
     "execution_count": 11,
     "metadata": {},
     "output_type": "execute_result"
    }
   ],
   "source": [
    "file_object.name#You can now attach any of the '__   __' below  other than name to observe/manipulate file"
   ]
  },
  {
   "cell_type": "code",
   "execution_count": 12,
   "metadata": {
    "scrolled": true,
    "slideshow": {
     "slide_type": "-"
    }
   },
   "outputs": [
    {
     "data": {
      "text/plain": [
       "['_CHUNK_SIZE',\n",
       " '__class__',\n",
       " '__del__',\n",
       " '__delattr__',\n",
       " '__dict__',\n",
       " '__dir__',\n",
       " '__doc__',\n",
       " '__enter__',\n",
       " '__eq__',\n",
       " '__exit__',\n",
       " '__format__',\n",
       " '__ge__',\n",
       " '__getattribute__',\n",
       " '__getstate__',\n",
       " '__gt__',\n",
       " '__hash__',\n",
       " '__init__',\n",
       " '__init_subclass__',\n",
       " '__iter__',\n",
       " '__le__',\n",
       " '__lt__',\n",
       " '__ne__',\n",
       " '__new__',\n",
       " '__next__',\n",
       " '__reduce__',\n",
       " '__reduce_ex__',\n",
       " '__repr__',\n",
       " '__setattr__',\n",
       " '__sizeof__',\n",
       " '__str__',\n",
       " '__subclasshook__',\n",
       " '_checkClosed',\n",
       " '_checkReadable',\n",
       " '_checkSeekable',\n",
       " '_checkWritable',\n",
       " '_finalizing',\n",
       " 'buffer',\n",
       " 'close',\n",
       " 'closed',\n",
       " 'detach',\n",
       " 'encoding',\n",
       " 'errors',\n",
       " 'fileno',\n",
       " 'flush',\n",
       " 'isatty',\n",
       " 'line_buffering',\n",
       " 'mode',\n",
       " 'name',\n",
       " 'newlines',\n",
       " 'read',\n",
       " 'readable',\n",
       " 'readline',\n",
       " 'readlines',\n",
       " 'reconfigure',\n",
       " 'seek',\n",
       " 'seekable',\n",
       " 'tell',\n",
       " 'truncate',\n",
       " 'writable',\n",
       " 'write',\n",
       " 'write_through',\n",
       " 'writelines']"
      ]
     },
     "execution_count": 12,
     "metadata": {},
     "output_type": "execute_result"
    }
   ],
   "source": [
    "# file_object.<TAB>\n",
    "dir(file_object) # attributes and methods of file objects"
   ]
  },
  {
   "cell_type": "markdown",
   "metadata": {},
   "source": [
    "Extract the file name:"
   ]
  },
  {
   "cell_type": "code",
   "execution_count": 13,
   "metadata": {},
   "outputs": [
    {
     "name": "stdout",
     "output_type": "stream",
     "text": [
      "demo.txt\n"
     ]
    }
   ],
   "source": [
    "print(file_object.name)"
   ]
  },
  {
   "cell_type": "markdown",
   "metadata": {},
   "source": [
    "Determine the access mode:"
   ]
  },
  {
   "cell_type": "code",
   "execution_count": 14,
   "metadata": {},
   "outputs": [
    {
     "name": "stdout",
     "output_type": "stream",
     "text": [
      "r\n"
     ]
    }
   ],
   "source": [
    "print(file_object.mode)"
   ]
  },
  {
   "cell_type": "markdown",
   "metadata": {},
   "source": [
    "Determine if the file is cloded:"
   ]
  },
  {
   "cell_type": "code",
   "execution_count": 15,
   "metadata": {
    "slideshow": {
     "slide_type": "-"
    }
   },
   "outputs": [
    {
     "name": "stdout",
     "output_type": "stream",
     "text": [
      "False\n"
     ]
    }
   ],
   "source": [
    "print(file_object.closed) #This means the file is still open, it is important to close them eventually"
   ]
  },
  {
   "cell_type": "markdown",
   "metadata": {},
   "source": [
    "### Print all the lines and count the number of lines"
   ]
  },
  {
   "cell_type": "code",
   "execution_count": 16,
   "metadata": {},
   "outputs": [
    {
     "name": "stdout",
     "output_type": "stream",
     "text": [
      "Luke Skywalker has vanished. \n",
      "\n",
      "In his absence, the sinister \n",
      "\n",
      "FIRST ORDER has risen \n",
      "\n",
      "from the ashes of the Empire \n",
      "\n",
      "and will not rest until Skywalker, the last Jedi, \n",
      "\n",
      "has been destroyed.\n",
      "\n",
      "\n",
      "\n",
      "With the support of the REPUBLIC, \n",
      "\n",
      "General Leia Organa leads a brave RESISTANCE. \n",
      "\n",
      "She is desperate to find her \n",
      "\n",
      "brother Luke and gain his \n",
      "\n",
      "help in restoring peace and \n",
      "\n",
      "justice to the galaxy.\n",
      "\n",
      "\n",
      "\n",
      "Leia has sent her most daring \n",
      "\n",
      "pilot on a secret mission \n",
      "\n",
      "to Jakku, where an old ally \n",
      "\n",
      "has discovered a clue to \n",
      "\n",
      "Luke's whereabouts . . . .\n",
      "\n",
      "My file has 19 lines.\n"
     ]
    }
   ],
   "source": [
    "#file identifier opens and reads the file, then we count the lines in the file(default iteration is a line)\n",
    "fid = open ('demo.txt','r')\n",
    "count = 0\n",
    "for line in fid: # treating fid as a sequence of strings\n",
    "    count = count + 1\n",
    "    print(line)\n",
    "    \n",
    "print(f\"My file has {count} lines.\")    \n",
    "fid.close()"
   ]
  },
  {
   "cell_type": "markdown",
   "metadata": {},
   "source": [
    "#### Note: Each line includes a non-printing character called the newline character `\\n`."
   ]
  },
  {
   "cell_type": "markdown",
   "metadata": {},
   "source": [
    "### Automatically closing files\n",
    "\n",
    "There is another formulation to open and close the file: use the `with` statement:"
   ]
  },
  {
   "cell_type": "code",
   "execution_count": 24,
   "metadata": {},
   "outputs": [
    {
     "ename": "SyntaxError",
     "evalue": "unterminated string literal (detected at line 6) (3428712022.py, line 6)",
     "output_type": "error",
     "traceback": [
      "\u001b[0;36m  Cell \u001b[0;32mIn[24], line 6\u001b[0;36m\u001b[0m\n\u001b[0;31m    print(f' (IN)--> Is file closed? {fid.closed}\")\u001b[0m\n\u001b[0m          ^\u001b[0m\n\u001b[0;31mSyntaxError\u001b[0m\u001b[0;31m:\u001b[0m unterminated string literal (detected at line 6)\n"
     ]
    }
   ],
   "source": [
    "count = 0\n",
    "with open ('demo.txt','r') as fid:\n",
    "    for line in fid:\n",
    "        count += 1\n",
    "        print(line)\n",
    "    print(f' (IN)--> Is file closed? {fid.closed}\")\n",
    "    # file will be closed after exiting this block of code\n",
    "    \n",
    "\n",
    "print(f'My file has {count} lines.')    "
   ]
  },
  {
   "cell_type": "code",
   "execution_count": 25,
   "metadata": {},
   "outputs": [
    {
     "name": "stdout",
     "output_type": "stream",
     "text": [
      "(OUT)<-- Is file closed? True\n"
     ]
    }
   ],
   "source": [
    "print(f'(OUT)<-- Is file closed? {fid.closed}')"
   ]
  },
  {
   "cell_type": "markdown",
   "metadata": {},
   "source": [
    "- We do not have to close the file identifier.\n",
    "- As soon as we are outside the scope of the `with` statement, the file identifier will automatically close."
   ]
  },
  {
   "cell_type": "markdown",
   "metadata": {},
   "source": [
    "### <font color=\"blue\">Breakout 1</font> \n",
    "Read the text file `demo.txt` and count the number of lines excluding empty lines."
   ]
  },
  {
   "cell_type": "code",
   "execution_count": 26,
   "metadata": {},
   "outputs": [
    {
     "name": "stdout",
     "output_type": "stream",
     "text": [
      "Luke Skywalker has vanished. \n",
      "\n",
      "In his absence, the sinister \n",
      "\n",
      "FIRST ORDER has risen \n",
      "\n",
      "from the ashes of the Empire \n",
      "\n",
      "and will not rest until Skywalker, the last Jedi, \n",
      "\n",
      "has been destroyed.\n",
      "\n",
      "With the support of the REPUBLIC, \n",
      "\n",
      "General Leia Organa leads a brave RESISTANCE. \n",
      "\n",
      "She is desperate to find her \n",
      "\n",
      "brother Luke and gain his \n",
      "\n",
      "help in restoring peace and \n",
      "\n",
      "justice to the galaxy.\n",
      "\n",
      "Leia has sent her most daring \n",
      "\n",
      "pilot on a secret mission \n",
      "\n",
      "to Jakku, where an old ally \n",
      "\n",
      "has discovered a clue to \n",
      "\n",
      "Luke's whereabouts . . . .\n",
      "\n",
      "My file has 17 lines.\n"
     ]
    }
   ],
   "source": [
    "count = 0\n",
    "with open ('demo.txt','r') as fid:\n",
    "    for line in fid:\n",
    "        if line.strip():\n",
    "            count += 1\n",
    "            print(line)\n",
    "    \n",
    "print(f\"My file has {count} lines.\")  "
   ]
  },
  {
   "cell_type": "markdown",
   "metadata": {},
   "source": [
    "<details><summary><b><font color=\"red\">Click here to access the solution</font></b></summary>\n",
    "<p>\n",
    "    \n",
    "```python\n",
    "count = 0\n",
    "with open ('demo.txt','r') as fid:\n",
    "    for line in fid:\n",
    "        if line.strip():\n",
    "            count += 1\n",
    "            print(line)\n",
    "    \n",
    "print(f\"My file has {count} lines.\")   \n",
    "``` \n",
    "</p>\n",
    "</details>"
   ]
  },
  {
   "cell_type": "markdown",
   "metadata": {},
   "source": [
    "### Reading the entire file at once"
   ]
  },
  {
   "cell_type": "code",
   "execution_count": 27,
   "metadata": {
    "slideshow": {
     "slide_type": "-"
    }
   },
   "outputs": [
    {
     "name": "stdout",
     "output_type": "stream",
     "text": [
      "Contents of file are of type: <class 'str'>\n"
     ]
    }
   ],
   "source": [
    "with open('demo.txt','r') as fid:\n",
    "    # read() reads the _entire_ file, returns a string object\n",
    "    data = fid.read()           \n",
    "    print(f\"Contents of file are of type: {type(data)}\")"
   ]
  },
  {
   "cell_type": "markdown",
   "metadata": {},
   "source": [
    "The content of the file (`data`) was saved in memory. We can use it:"
   ]
  },
  {
   "cell_type": "code",
   "execution_count": 28,
   "metadata": {},
   "outputs": [
    {
     "name": "stdout",
     "output_type": "stream",
     "text": [
      "\n",
      "  Contents of file \n",
      " ----------------\n",
      "Luke Skywalker has vanished. \n",
      "In his absence, the sinister \n",
      "FIRST ORDER has risen \n",
      "from the ashes of the Empire \n",
      "and will not rest until Skywalker, the last Jedi, \n",
      "has been destroyed.\n",
      "\n",
      "With the support of the REPUBLIC, \n",
      "General Leia Organa leads a brave RESISTANCE. \n",
      "She is desperate to find her \n",
      "brother Luke and gain his \n",
      "help in restoring peace and \n",
      "justice to the galaxy.\n",
      "\n",
      "Leia has sent her most daring \n",
      "pilot on a secret mission \n",
      "to Jakku, where an old ally \n",
      "has discovered a clue to \n",
      "Luke's whereabouts . . . .\n",
      "\n"
     ]
    }
   ],
   "source": [
    "heading = \"Contents of file\"\n",
    "print(f\"\\n  {heading} \\n {'-'*len(heading)}\")\n",
    "print(data)"
   ]
  },
  {
   "cell_type": "markdown",
   "metadata": {},
   "source": [
    "### Read file chunks"
   ]
  },
  {
   "cell_type": "code",
   "execution_count": 29,
   "metadata": {
    "slideshow": {
     "slide_type": "-"
    }
   },
   "outputs": [
    {
     "name": "stdout",
     "output_type": "stream",
     "text": [
      "Luke Skywalker has vanished. \n",
      "In his absence, the sinister \n",
      "FIRS\n",
      "T ORDER has risen \n",
      "from the ashes of the Empire \n",
      "and will not re\n",
      "st until Skywalker, the last Jedi, \n",
      "has been destroyed.\n",
      "\n",
      "With th\n",
      "e support of the REPUBLIC, \n",
      "General Leia Organa leads a brave RE\n",
      "SISTANCE. \n",
      "She is desperate to find her \n",
      "brother Luke and gain h\n",
      "is \n",
      "help in restoring peace and \n",
      "justice to the galaxy.\n",
      "\n",
      "Leia ha\n",
      "s sent her most daring \n",
      "pilot on a secret mission \n",
      "to Jakku, whe\n",
      "re an old ally \n",
      "has discovered a clue to \n",
      "Luke's whereabouts . .\n",
      " . .\n",
      "\n",
      "\n"
     ]
    }
   ],
   "source": [
    "num_bytes = 64\n",
    "\n",
    "with open('demo.txt', 'r') as fid:\n",
    "    data = \"Dummy string\"         \n",
    "    while data:\n",
    "        data = fid.read(num_bytes)   # read in num_bytes chunk sizes\n",
    "        print(data)"
   ]
  },
  {
   "cell_type": "markdown",
   "metadata": {},
   "source": [
    "### Read one line at a time: `readline()` function"
   ]
  },
  {
   "cell_type": "markdown",
   "metadata": {},
   "source": [
    "Read the first line:"
   ]
  },
  {
   "cell_type": "code",
   "execution_count": 30,
   "metadata": {
    "slideshow": {
     "slide_type": "-"
    }
   },
   "outputs": [
    {
     "name": "stdout",
     "output_type": "stream",
     "text": [
      "Luke Skywalker has vanished. \n",
      "\n"
     ]
    }
   ],
   "source": [
    "with open('demo.txt') as fid:\n",
    "    data = fid.readline()\n",
    "    print(data)"
   ]
  },
  {
   "cell_type": "markdown",
   "metadata": {},
   "source": [
    "Read all the lines, one line at the time:"
   ]
  },
  {
   "cell_type": "code",
   "execution_count": 31,
   "metadata": {
    "slideshow": {
     "slide_type": "-"
    }
   },
   "outputs": [
    {
     "name": "stdout",
     "output_type": "stream",
     "text": [
      "Luke Skywalker has vanished. \n",
      "\n",
      "In his absence, the sinister \n",
      "\n",
      "FIRST ORDER has risen \n",
      "\n",
      "from the ashes of the Empire \n",
      "\n",
      "and will not rest until Skywalker, the last Jedi, \n",
      "\n",
      "has been destroyed.\n",
      "\n",
      "\n",
      "\n",
      "With the support of the REPUBLIC, \n",
      "\n",
      "General Leia Organa leads a brave RESISTANCE. \n",
      "\n",
      "She is desperate to find her \n",
      "\n",
      "brother Luke and gain his \n",
      "\n",
      "help in restoring peace and \n",
      "\n",
      "justice to the galaxy.\n",
      "\n",
      "\n",
      "\n",
      "Leia has sent her most daring \n",
      "\n",
      "pilot on a secret mission \n",
      "\n",
      "to Jakku, where an old ally \n",
      "\n",
      "has discovered a clue to \n",
      "\n",
      "Luke's whereabouts . . . .\n",
      "\n",
      "\n"
     ]
    }
   ],
   "source": [
    "with open('demo.txt') as fid:\n",
    "    data = \"Dummy String\"\n",
    "    while data:\n",
    "        data = fid.readline()\n",
    "        print(data)"
   ]
  },
  {
   "cell_type": "markdown",
   "metadata": {},
   "source": [
    "### Read all the lines at once: `readlines()` function"
   ]
  },
  {
   "cell_type": "code",
   "execution_count": 32,
   "metadata": {},
   "outputs": [],
   "source": [
    "with open('demo.txt') as fid:\n",
    "    data = fid.readlines()"
   ]
  },
  {
   "cell_type": "markdown",
   "metadata": {},
   "source": [
    "Note that `data` is a list of lines:"
   ]
  },
  {
   "cell_type": "code",
   "execution_count": 33,
   "metadata": {},
   "outputs": [
    {
     "name": "stdout",
     "output_type": "stream",
     "text": [
      "<class 'list'>\n"
     ]
    }
   ],
   "source": [
    "print(type(data))"
   ]
  },
  {
   "cell_type": "code",
   "execution_count": 34,
   "metadata": {},
   "outputs": [
    {
     "name": "stdout",
     "output_type": "stream",
     "text": [
      "['Luke Skywalker has vanished. \\n', 'In his absence, the sinister \\n', 'FIRST ORDER has risen \\n', 'from the ashes of the Empire \\n', 'and will not rest until Skywalker, the last Jedi, \\n', 'has been destroyed.\\n', '\\n', 'With the support of the REPUBLIC, \\n', 'General Leia Organa leads a brave RESISTANCE. \\n', 'She is desperate to find her \\n', 'brother Luke and gain his \\n', 'help in restoring peace and \\n', 'justice to the galaxy.\\n', '\\n', 'Leia has sent her most daring \\n', 'pilot on a secret mission \\n', 'to Jakku, where an old ally \\n', 'has discovered a clue to \\n', \"Luke's whereabouts . . . .\\n\"]\n"
     ]
    }
   ],
   "source": [
    "print(data)  "
   ]
  },
  {
   "cell_type": "markdown",
   "metadata": {},
   "source": [
    "### <font color=\"blue\">Breakout 2</font>\n",
    "Read the text file `demo.txt` and find all instances of the word \"Luke\""
   ]
  },
  {
   "cell_type": "code",
   "execution_count": 35,
   "metadata": {},
   "outputs": [
    {
     "name": "stdout",
     "output_type": "stream",
     "text": [
      "Luke Skywalker has vanished. \n",
      "\n",
      "brother Luke and gain his \n",
      "\n",
      "Luke's whereabouts . . . .\n",
      "\n",
      "There are 3 lines with the word Luke.\n"
     ]
    }
   ],
   "source": [
    "with open('demo.txt') as fid:\n",
    "    data = fid.readlines()\n",
    "\n",
    "count = 0\n",
    "for line in data:\n",
    "    if \"Luke\" in line:\n",
    "        count += 1\n",
    "        print(line)\n",
    "        \n",
    "print(f\"There are {count} lines with the word Luke.\") "
   ]
  },
  {
   "cell_type": "markdown",
   "metadata": {},
   "source": [
    "<details><summary><b><font color=\"red\">Click here to access the solution</font></b></summary>\n",
    "<p>\n",
    "    \n",
    "```python\n",
    "with open('demo.txt') as fid:\n",
    "    data = fid.readlines()\n",
    "\n",
    "count = 0\n",
    "for line in data:\n",
    "    if \"Luke\" in line:\n",
    "        count += 1\n",
    "        print(line)\n",
    "        \n",
    "print(f\"There are {count} lines with the word Luke.\")  \n",
    "``` \n",
    "</p>\n",
    "</details>"
   ]
  },
  {
   "cell_type": "markdown",
   "metadata": {},
   "source": [
    "## <font color=\"red\">Writing Text Files</font>\n",
    "\n",
    "* The `write()` method writes any string to an open file.\n",
    "* The `write()` method does not add a newline character (`'\\n'`) to the end of the string. \n",
    "* The `writelines()` method takes a list and write each entry in its own line (if it has the \"\\n\" character at the end)."
   ]
  },
  {
   "cell_type": "code",
   "execution_count": null,
   "metadata": {},
   "outputs": [],
   "source": [
    "with open('elements.txt', 'w') as fid: # 'w' creates a new file\n",
    "    fid.write('Noble gases: ')              \n",
    "    fid.writelines(['He', 'Ne', 'Ar'])  # writelines writes each element on its own"
   ]
  },
  {
   "cell_type": "code",
   "execution_count": null,
   "metadata": {},
   "outputs": [],
   "source": [
    "!cat elements.txt"
   ]
  },
  {
   "cell_type": "markdown",
   "metadata": {},
   "source": [
    "**Note: python will not write '\\n' for you.**"
   ]
  },
  {
   "cell_type": "markdown",
   "metadata": {},
   "source": [
    "#### 'a+' vs 'r+'"
   ]
  },
  {
   "cell_type": "markdown",
   "metadata": {},
   "source": [
    "`'a'` is 'append' mode, no reading:"
   ]
  },
  {
   "cell_type": "code",
   "execution_count": null,
   "metadata": {},
   "outputs": [],
   "source": [
    "with open('elements.txt', 'a') as fid:\n",
    "    contents = fid.read()"
   ]
  },
  {
   "cell_type": "markdown",
   "metadata": {},
   "source": [
    "`'a+'` is for appending and reading:\n",
    "- The file is opened for reading and writing\n",
    "- The file is created if it does not exist.\n",
    "- The file pointer is at the end of the file."
   ]
  },
  {
   "cell_type": "code",
   "execution_count": null,
   "metadata": {
    "scrolled": true
   },
   "outputs": [],
   "source": [
    "with open('elements.txt', 'a+') as fid: \n",
    "    contents = fid.read()               \n",
    "    print(f\"File position: {fid.tell()}\")                \n",
    "    fid.write('Kr\\n')                    "
   ]
  },
  {
   "cell_type": "markdown",
   "metadata": {},
   "source": [
    "`fid.tell()` tells me that file pointer is at EOF and I appended 'Kr\\n' at that position."
   ]
  },
  {
   "cell_type": "code",
   "execution_count": null,
   "metadata": {},
   "outputs": [],
   "source": [
    "!cat elements.txt"
   ]
  },
  {
   "cell_type": "markdown",
   "metadata": {},
   "source": [
    "`r+'` for reading and writing:\n",
    "- Opens a file for both reading and writing. \n",
    "- The file pointer will be at the beginning of the file."
   ]
  },
  {
   "cell_type": "code",
   "execution_count": null,
   "metadata": {},
   "outputs": [],
   "source": [
    "with open('elements.txt', 'r+') as fid:\n",
    "    print(\"File position: \", fid.tell()) # file pointer is at 'beginning of file'\n",
    "    fid.write('Halogens:\\n')          \n",
    "    fid.writelines(['F\\n', 'Cl\\n'])"
   ]
  },
  {
   "cell_type": "code",
   "execution_count": null,
   "metadata": {},
   "outputs": [],
   "source": [
    "with open('elements.txt') as fid:\n",
    "    print(fid.readlines())"
   ]
  },
  {
   "cell_type": "markdown",
   "metadata": {},
   "source": [
    "f.tell() tells me that file pointer is at BOF and I wrote text starting at that position"
   ]
  },
  {
   "cell_type": "code",
   "execution_count": null,
   "metadata": {},
   "outputs": [],
   "source": [
    "!cat elements.txt"
   ]
  },
  {
   "cell_type": "markdown",
   "metadata": {},
   "source": [
    "### <font color=\"blue\">Breakout 3</font>\n",
    "Write a program that reads file `demo.txt` and writes out a new file with the lines in reversed order (i.e. the first line in the old file becomes the last one in the new file.)"
   ]
  },
  {
   "cell_type": "markdown",
   "metadata": {},
   "source": [
    "<details><summary><b><font color=\"red\">Click here to access the solution</font></b></summary>\n",
    "<p>\n",
    "    \n",
    "```python\n",
    "with open('demo.txt') as fid:\n",
    "    data = fid.readlines()\n",
    "\n",
    "data.reverse()\n",
    "with open('demo_reversed.txt', 'w') as fid:\n",
    "    fid.writelines(data)\n",
    "``` \n",
    "</p>\n",
    "</details>"
   ]
  },
  {
   "cell_type": "markdown",
   "metadata": {},
   "source": [
    "## Summary of basic file IO functions and methods"
   ]
  },
  {
   "cell_type": "markdown",
   "metadata": {},
   "source": [
    "<table style=\"width:100%\">\n",
    "  <tr>\n",
    "    <th>Methods and functions</th>\n",
    "    <th>Description</th> \n",
    "  </tr>\n",
    "  <tr>\n",
    "    <td>open()</td>\n",
    "    <td>Returns a file object and is most commonly used with two arguments: open(filename, mode)</td> \n",
    "  </tr>\n",
    "  <tr>\n",
    "    <td>file.close()</td>\n",
    "    <td>Close the file.</td> \n",
    "  </tr>\n",
    "  <tr>\n",
    "    <td>file.read([size])</td>\n",
    "    <td>Read the entire file. If size is specified then read at most size bytes.</td> \n",
    "  </tr>\n",
    "  <tr>\n",
    "    <td>file.readline([size])</td>\n",
    "    <td>Read one line from the file. If size is specified then read at most size bytes.</td> \n",
    "  </tr>\n",
    "  <tr>\n",
    "    <td>file.readlines([size])</td>\n",
    "    <td>Read all the lines from the file. If size is specified then read at most size bytes.</td> \n",
    "  </tr>\n",
    "  <tr>\n",
    "    <td>file.tell()</td>\n",
    "    <td>Returns file object's current position in the file.</td> \n",
    "  </tr>\n",
    "  <tr>\n",
    "    <td>file.seek(int)</td>\n",
    "    <td>Changes the file object's current position to the given int.</td> \n",
    "  <tr>\n",
    "    <td>file.write(string)</td>\n",
    "    <td>Writes the contents of string to the file.</td> \n",
    "  </tr>\n",
    "</table>"
   ]
  },
  {
   "cell_type": "markdown",
   "metadata": {},
   "source": [
    "# <font color=\"purple\">Going Deeper: Extra Materials</font>"
   ]
  },
  {
   "cell_type": "markdown",
   "metadata": {},
   "source": [
    "### OS dependent functions"
   ]
  },
  {
   "cell_type": "code",
   "execution_count": null,
   "metadata": {},
   "outputs": [],
   "source": [
    "import os"
   ]
  },
  {
   "cell_type": "markdown",
   "metadata": {
    "collapsed": true,
    "jupyter": {
     "outputs_hidden": true
    }
   },
   "source": [
    "Python os module provides methods that help you perform all kinds of file-processing operations, such as renaming and deleting files (as well as file IO)."
   ]
  },
  {
   "cell_type": "code",
   "execution_count": null,
   "metadata": {},
   "outputs": [],
   "source": [
    "help(os.read)"
   ]
  },
  {
   "cell_type": "code",
   "execution_count": null,
   "metadata": {},
   "outputs": [],
   "source": [
    "fd = os.open('demo.txt', os.O_RDWR)\n",
    "ret = os.read(fd, 35)\n",
    "print(f\"Result from os.read: \\n {20*'-'} \\n {ret}\")\n",
    "os.close(fd)"
   ]
  },
  {
   "cell_type": "markdown",
   "metadata": {},
   "source": [
    "### File position"
   ]
  },
  {
   "cell_type": "code",
   "execution_count": null,
   "metadata": {},
   "outputs": [],
   "source": [
    "with open ('demo.txt') as f:\n",
    "    f.seek(5)          # seek(offset) Changes file object's position\n",
    "    data = f.readline() \n",
    "    print(data)"
   ]
  },
  {
   "cell_type": "code",
   "execution_count": null,
   "metadata": {},
   "outputs": [],
   "source": [
    "with open ('demo.txt') as f:\n",
    "    f.seek(5)\n",
    "    data = f.readline() \n",
    "    print (data)\n",
    "    k = f.tell()              # tell() returns current position in file\n",
    "    print (k)"
   ]
  },
  {
   "cell_type": "markdown",
   "metadata": {},
   "source": [
    "### Using print  to automatically add new lines"
   ]
  },
  {
   "cell_type": "code",
   "execution_count": null,
   "metadata": {},
   "outputs": [],
   "source": [
    "with open ('elementsWithNewLine.txt', 'w') as f:\n",
    "    print('Noble gases', file=f)       # print automatically adds newline\n",
    "    for gas in ['He', 'Ne', 'Ar', 'Kr']:\n",
    "        print(gas, file=f)"
   ]
  },
  {
   "cell_type": "code",
   "execution_count": null,
   "metadata": {},
   "outputs": [],
   "source": [
    "!cat elementsWithNewLine.txt"
   ]
  },
  {
   "cell_type": "code",
   "execution_count": null,
   "metadata": {},
   "outputs": [],
   "source": []
  }
 ],
 "metadata": {
  "anaconda-cloud": {},
  "celltoolbar": "Raw Cell Format",
  "kernelspec": {
   "display_name": "Python 3 (ipykernel)",
   "language": "python",
   "name": "python3"
  },
  "language_info": {
   "codemirror_mode": {
    "name": "ipython",
    "version": 3
   },
   "file_extension": ".py",
   "mimetype": "text/x-python",
   "name": "python",
   "nbconvert_exporter": "python",
   "pygments_lexer": "ipython3",
   "version": "3.11.8"
  }
 },
 "nbformat": 4,
 "nbformat_minor": 4
}
