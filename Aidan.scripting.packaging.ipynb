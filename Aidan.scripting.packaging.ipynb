{
 "cells": [
  {
   "cell_type": "markdown",
   "metadata": {},
   "source": [
    "<center>\n",
    "<table>\n",
    "  <tr>\n",
    "    <td><img src=\"https://portal.nccs.nasa.gov/datashare/astg/training/python/logos/nasa-logo.svg\" width=\"100\"/> </td>\n",
    "     <td><img src=\"https://portal.nccs.nasa.gov/datashare/astg/training/python/logos/ASTG_logo.png?raw=true\" width=\"80\"/> </td>\n",
    "     <td> <img src=\"https://www.nccs.nasa.gov/sites/default/files/NCCS_Logo_0.png\" width=\"130\"/> </td>\n",
    "    </tr>\n",
    "</table>\n",
    "</center>\n",
    "\n",
    "        \n",
    "<center>\n",
    "<h1><font color= \"blue\" size=\"+3\">ASTG Python Courses</font></h1>\n",
    "</center>\n",
    "\n",
    "---\n",
    "\n",
    "<CENTER>\n",
    "<H1>\n",
    "    <font color=\"red\">Python Scripting and Packaging</font>\n",
    "</H1>\n",
    "</CENTER>"
   ]
  },
  {
   "cell_type": "markdown",
   "metadata": {},
   "source": [
    "# <font color=\"red\"> Useful References </font>\n",
    "* <A HREF=\"https://py-pkgs.org/welcome#welcome-to-python-packages\">Welcome to Python Packages!</A>\n",
    "* <A HREF=\"https://realpython.com/python-modules-packages/\"> Python Modules and Packages – An Introduction </A>\n",
    "* <A HREF=\"https://python-packaging.readthedocs.io/en/latest/minimal.html\"> How To Package Your Python Code</A>\n",
    "* <A HREF=\"https://packaging.python.org/tutorials/packaging-projects/\"> Packaging Python Projects </A>\n",
    "* <a href=\"https://python-course.eu/python-tutorial/packages.php\">Packages</a>\n",
    "* <a href=\"https://builtin.com/data-science/how-to-publish-python-code-pypi\">Publish Your Python Code to PyPI in 5 Simple Steps</a>"
   ]
  },
  {
   "cell_type": "markdown",
   "metadata": {},
   "source": [
    "# <font color=\"red\"> Objectives </font>\n",
    "\n",
    "- We want to write a Python application that converts temperatures (a list of values) from one unit to another.\n",
    "   - Written in such a way that that it can be resuable, maintainable and expandable.\n",
    "   - Documented\n",
    "- The application will be structured as a Python package, could be shared and published.\n",
    "\n",
    "<p>\n",
    "<p>\n",
    "\n",
    "The application needs to have functions performing the conversions:\n",
    "    \n",
    "- **Kelvin to Celsius**: $C = K - 273.5$\n",
    "- **Kelvin to Fahrenheit**: $F = \\frac{9}{5}(K - 273.5) + 32$ \n",
    "- **Celsius to Fahrenheit**: $F = \\frac{9}{5}C + 32$ \n",
    "- **Celsius to Kelvin**: $K = C + 273.5$\n",
    "- **Fahrenheit to Celsius**: $C = \\frac{1}{1.80}(F - 32)$\n",
    "- **Fahrenheit to Kelvin**: $K = \\frac{5}{9}(F - 32) + 273.5$\n",
    " \n",
    "We might consider having a module that contains constant parameters such as `273.5`."
   ]
  },
  {
   "cell_type": "markdown",
   "metadata": {},
   "source": [
    "# <font color=\"red\">Python Namespace</font>\n",
    "\n",
    "- Each object (class, function, variable, etc.) manipulated in Python is assigned a name.\n",
    "- A namespace is a collection of names.\n",
    "- A namespace maps every name you have defined to corresponding objects.\n",
    "- There are three main namespaces:\n",
    "    - **Built-In**: Contains the names of all of Python’s built-in objects: all the names created when we start the Python interpreter and exist as long as the interpreter runs.\n",
    "    - **Global**: Covers the names from various imported modules used in a project. Python creates this namespace for every module included in your program. It will last until the program ends.\n",
    "    - **Local**: Is created whenever a function is executed and remains in existence until the function terminates. It covers the local names inside a function.\n",
    "- Namespaces help minimize collisions, making it clear to which object each name refers.\n",
    "   - **When we build our application, we need to make sure that proper conventions are used to avoid any collision.**\n",
    "\n",
    "![namespace](https://media.geeksforgeeks.org/wp-content/uploads/types_namespace-1.png)\n",
    "Image Source: geeksforgeeks.org"
   ]
  },
  {
   "cell_type": "markdown",
   "metadata": {},
   "source": [
    "- The `dir()` function returns the list of names in the current local scope."
   ]
  },
  {
   "cell_type": "code",
   "execution_count": 1,
   "metadata": {},
   "outputs": [
    {
     "name": "stdout",
     "output_type": "stream",
     "text": [
      "['In', 'NamespaceMagics', 'Out', '_', '_1', '__', '__K', '___', '__builtin__', '__builtins__', '__doc__', '__import__', '__ipywidgets', '__loader__', '__name__', '__np', '__package__', '__pd', '__pyspark', '__session__', '__spec__', '__tf', '__torch', '__xr', '_attempt_import', '_check_imported', '_dh', '_i', '_i1', '_ih', '_ii', '_iii', '_jupyterlab_variableinspector_Jupyter', '_jupyterlab_variableinspector_default', '_jupyterlab_variableinspector_deletevariable', '_jupyterlab_variableinspector_dict_list', '_jupyterlab_variableinspector_displaywidget', '_jupyterlab_variableinspector_getcontentof', '_jupyterlab_variableinspector_getmatrixcontent', '_jupyterlab_variableinspector_getshapeof', '_jupyterlab_variableinspector_getsizeof', '_jupyterlab_variableinspector_is_matrix', '_jupyterlab_variableinspector_is_widget', '_jupyterlab_variableinspector_nms', '_oh', 'exit', 'get_ipython', 'json', 'open', 'quit', 'sys']\n"
     ]
    }
   ],
   "source": [
    "print(dir())"
   ]
  },
  {
   "cell_type": "markdown",
   "metadata": {},
   "source": [
    "- All the names listed in `dir()` are available to us\n",
    "\n",
    "We can zoom in on `__builtin__`:"
   ]
  },
  {
   "cell_type": "code",
   "execution_count": 2,
   "metadata": {},
   "outputs": [
    {
     "name": "stdout",
     "output_type": "stream",
     "text": [
      "['ArithmeticError', 'AssertionError', 'AttributeError', 'BaseException', 'BaseExceptionGroup', 'BlockingIOError', 'BrokenPipeError', 'BufferError', 'BytesWarning', 'ChildProcessError', 'ConnectionAbortedError', 'ConnectionError', 'ConnectionRefusedError', 'ConnectionResetError', 'DeprecationWarning', 'EOFError', 'Ellipsis', 'EncodingWarning', 'EnvironmentError', 'Exception', 'ExceptionGroup', 'False', 'FileExistsError', 'FileNotFoundError', 'FloatingPointError', 'FutureWarning', 'GeneratorExit', 'IOError', 'ImportError', 'ImportWarning', 'IndentationError', 'IndexError', 'InterruptedError', 'IsADirectoryError', 'KeyError', 'KeyboardInterrupt', 'LookupError', 'MemoryError', 'ModuleNotFoundError', 'NameError', 'None', 'NotADirectoryError', 'NotImplemented', 'NotImplementedError', 'OSError', 'OverflowError', 'PendingDeprecationWarning', 'PermissionError', 'ProcessLookupError', 'RecursionError', 'ReferenceError', 'ResourceWarning', 'RuntimeError', 'RuntimeWarning', 'StopAsyncIteration', 'StopIteration', 'SyntaxError', 'SyntaxWarning', 'SystemError', 'SystemExit', 'TabError', 'TimeoutError', 'True', 'TypeError', 'UnboundLocalError', 'UnicodeDecodeError', 'UnicodeEncodeError', 'UnicodeError', 'UnicodeTranslateError', 'UnicodeWarning', 'UserWarning', 'ValueError', 'Warning', 'ZeroDivisionError', '__IPYTHON__', '__build_class__', '__debug__', '__doc__', '__import__', '__loader__', '__name__', '__package__', '__spec__', 'abs', 'aiter', 'all', 'anext', 'any', 'ascii', 'bin', 'bool', 'breakpoint', 'bytearray', 'bytes', 'callable', 'chr', 'classmethod', 'compile', 'complex', 'copyright', 'credits', 'delattr', 'dict', 'dir', 'display', 'divmod', 'enumerate', 'eval', 'exec', 'execfile', 'filter', 'float', 'format', 'frozenset', 'get_ipython', 'getattr', 'globals', 'hasattr', 'hash', 'help', 'hex', 'id', 'input', 'int', 'isinstance', 'issubclass', 'iter', 'len', 'license', 'list', 'locals', 'map', 'max', 'memoryview', 'min', 'next', 'object', 'oct', 'open', 'ord', 'pow', 'print', 'property', 'range', 'repr', 'reversed', 'round', 'runfile', 'set', 'setattr', 'slice', 'sorted', 'staticmethod', 'str', 'sum', 'super', 'tuple', 'type', 'vars', 'zip']\n"
     ]
    }
   ],
   "source": [
    "print(dir(__builtin__))"
   ]
  },
  {
   "cell_type": "code",
   "execution_count": 3,
   "metadata": {},
   "outputs": [
    {
     "name": "stdout",
     "output_type": "stream",
     "text": [
      "160\n"
     ]
    }
   ],
   "source": [
    "print(len(dir(__builtin__)))"
   ]
  },
  {
   "cell_type": "code",
   "execution_count": 4,
   "metadata": {},
   "outputs": [
    {
     "data": {
      "text/plain": [
       "'builtins'"
      ]
     },
     "execution_count": 4,
     "metadata": {},
     "output_type": "execute_result"
    }
   ],
   "source": [
    "__builtin__.__name__"
   ]
  },
  {
   "cell_type": "code",
   "execution_count": 5,
   "metadata": {},
   "outputs": [
    {
     "name": "stdout",
     "output_type": "stream",
     "text": [
      "Help on built-in function sum in module builtins:\n",
      "\n",
      "sum(iterable, /, start=0)\n",
      "    Return the sum of a 'start' value (default: 0) plus an iterable of numbers\n",
      "    \n",
      "    When the iterable is empty, return the start value.\n",
      "    This function is intended specifically for use with numeric values and may\n",
      "    reject non-numeric types.\n",
      "\n"
     ]
    }
   ],
   "source": [
    "help(__builtin__.sum)"
   ]
  },
  {
   "cell_type": "markdown",
   "metadata": {},
   "source": [
    "### <font color=\"orange\">Example</font>"
   ]
  },
  {
   "cell_type": "code",
   "execution_count": 8,
   "metadata": {},
   "outputs": [
    {
     "name": "stdout",
     "output_type": "stream",
     "text": [
      "Namespace 1: {'_i1', '__K', '__torch', 'In', '__xr', 'open', 'quit', '_7', '_6', '__name__', 'sys', '_jupyterlab_variableinspector_deletevariable', '_', '_jupyterlab_variableinspector_getshapeof', '__loader__', '_jupyterlab_variableinspector_Jupyter', '__np', '_jupyterlab_variableinspector_default', '__spec__', '__tf', 'json', '__doc__', 'Out', '_jupyterlab_variableinspector_nms', '_ih', '__', '_5', '_jupyterlab_variableinspector_is_widget', '__pyspark', '_i', '_1', '_i5', 'NS1', '_jupyterlab_variableinspector_getmatrixcontent', '_jupyterlab_variableinspector_dict_list', 'namespace_1', '_jupyterlab_variableinspector_getsizeof', '___', '__package__', '_4', '_i4', '_dh', '__pd', '_i2', '_jupyterlab_variableinspector_is_matrix', 'NamespaceMagics', '__builtin__', '_i3', '_i6', '__session__', '_jupyterlab_variableinspector_getcontentof', '_check_imported', '_2', '_i7', '_iii', '_ii', '__builtins__', '_attempt_import', 'get_ipython', '_jupyterlab_variableinspector_displaywidget', '_8', '__ipywidgets', '__import__', '_oh', 'exit', '_3', '_i8'} \n",
      " Number items: 67\n"
     ]
    }
   ],
   "source": [
    "namespace_1 = set(dir())\n",
    "print(f\"Namespace 1: {namespace_1} \\n Number items: {len(namespace_1)}\")"
   ]
  },
  {
   "cell_type": "code",
   "execution_count": 9,
   "metadata": {},
   "outputs": [
    {
     "name": "stdout",
     "output_type": "stream",
     "text": [
      "Namespace 2: {'__K', 'pow', '_7', 'erfc', '__np', '__tf', 'json', '__doc__', '_jupyterlab_variableinspector_nms', '_ih', 'sin', '_i', '_jupyterlab_variableinspector_getsizeof', 'comb', '__pd', '_jupyterlab_variableinspector_is_matrix', 'inf', 'NamespaceMagics', '__builtin__', '_i3', '_jupyterlab_variableinspector_getcontentof', '__session__', 'ceil', '_9', 'erf', '_2', '_i8', 'fsum', 'exp2', 'modf', '__ipywidgets', 'factorial', '_3', 'log1p', 'cos', 'trunc', 'lcm', 'sys', 'tanh', '_', 'expm1', '_jupyterlab_variableinspector_Jupyter', 'degrees', 'atan2', 'frexp', 'Out', 'atan', 'gcd', 'e', '_5', '__pyspark', 'log', 'radians', 'NS1', 'log10', 'asinh', 'lgamma', 'ulp', 'remainder', '_check_imported', 'sqrt', '__builtins__', 'copysign', 'log2', '_8', '__import__', '_jupyterlab_variableinspector_displaywidget', 'isfinite', 'isnan', 'isinf', 'asin', 'perm', 'In', '__xr', '_6', 'nextafter', '_jupyterlab_variableinspector_getshapeof', '__loader__', '_jupyterlab_variableinspector_default', 'acos', '_jupyterlab_variableinspector_is_widget', 'atanh', 'tan', '_i5', 'namespace_1', '___', '_i4', 'cosh', 'hypot', '_i6', 'floor', 'cbrt', '_attempt_import', 'get_ipython', 'gamma', '_oh', 'exit', '_i1', '__torch', 'exp', 'open', 'quit', '__name__', '_jupyterlab_variableinspector_deletevariable', '__spec__', 'fmod', 'isqrt', '__', 'fabs', 'tau', '_1', 'isclose', '_jupyterlab_variableinspector_getmatrixcontent', '__package__', '_4', '_dh', '_i2', 'nan', '_i7', '_iii', '_ii', 'acosh', 'ldexp', 'prod', 'sinh', 'pi', '_jupyterlab_variableinspector_dict_list', '_i9', 'dist'} \n",
      " Number items: 129\n"
     ]
    }
   ],
   "source": [
    "from math import *\n",
    "\n",
    "NS2 = set(dir())\n",
    "print(f\"Namespace 2: {NS2} \\n Number items: {len(NS2)}\")"
   ]
  },
  {
   "cell_type": "code",
   "execution_count": 13,
   "metadata": {},
   "outputs": [
    {
     "name": "stdout",
     "output_type": "stream",
     "text": [
      "{'asin', 'perm', 'exp', 'cos', 'pow', 'trunc', 'erfc', 'lcm', 'tanh', 'nextafter', 'expm1', 'isnan', 'degrees', 'acos', 'fmod', 'atan2', 'frexp', 'isqrt', 'atan', 'fabs', 'gcd', 'tau', 'e', 'sin', 'atanh', 'log', 'isclose', 'radians', 'tan', 'log10', 'asinh', 'comb', 'lgamma', 'ulp', 'inf', 'remainder', 'cosh', 'nan', 'hypot', 'ceil', 'erf', '_9', 'sqrt', 'fsum', 'floor', 'cbrt', 'acosh', 'copysign', 'exp2', 'log2', 'modf', 'ldexp', 'gamma', 'prod', 'sinh', 'pi', 'factorial', 'isfinite', '_i9', 'log1p', 'dist', 'isinf'}\n"
     ]
    }
   ],
   "source": [
    "ns_diff_1 = NS2 - namespace_1\n",
    "print(ns_diff_1)"
   ]
  },
  {
   "cell_type": "markdown",
   "metadata": {},
   "source": [
    "We can compute $\\sqrt{144.2}$ with the square root function coming from the `math` module:"
   ]
  },
  {
   "cell_type": "code",
   "execution_count": 14,
   "metadata": {},
   "outputs": [
    {
     "name": "stdout",
     "output_type": "stream",
     "text": [
      "12.00833044182246\n"
     ]
    }
   ],
   "source": [
    "print(sqrt(144.2))"
   ]
  },
  {
   "cell_type": "code",
   "execution_count": 15,
   "metadata": {},
   "outputs": [
    {
     "name": "stdout",
     "output_type": "stream",
     "text": [
      "Namespace 3: {'__K', 'phase', 'pow', '_7', 'erfc', '__np', '_10', '__tf', 'json', '__doc__', '_jupyterlab_variableinspector_nms', '_ih', 'sin', '_i', '_i14', '_jupyterlab_variableinspector_getsizeof', 'comb', '__pd', '_jupyterlab_variableinspector_is_matrix', 'inf', '_jupyterlab_variableinspector_getcontentof', 'NamespaceMagics', '__builtin__', '_i3', '__session__', 'ceil', '_9', 'erf', '_2', 'fsum', 'exp2', 'modf', '__ipywidgets', 'factorial', '_3', '_i13', 'log1p', 'cos', 'trunc', 'lcm', 'sys', 'tanh', '_', 'expm1', '_jupyterlab_variableinspector_Jupyter', 'degrees', 'atan2', '_11', 'frexp', 'Out', 'ns_diff_1', 'atan', 'gcd', 'e', '_5', '__pyspark', 'log', 'radians', 'NS1', 'log10', 'infj', 'asinh', 'lgamma', 'ulp', 'remainder', 'NS2', '_14', '_check_imported', 'sqrt', '__builtins__', '_i15', 'copysign', 'log2', '_8', '_i10', '__import__', 'polar', '_jupyterlab_variableinspector_displaywidget', 'isfinite', 'isnan', 'isinf', 'asin', 'perm', 'In', '__xr', '_6', 'nextafter', '_jupyterlab_variableinspector_getshapeof', '__loader__', '_jupyterlab_variableinspector_default', 'acos', '_jupyterlab_variableinspector_is_widget', 'atanh', 'tan', '_i5', 'namespace_1', '___', '_i4', '_12', 'cosh', 'hypot', '_i6', 'floor', 'cbrt', '_attempt_import', 'get_ipython', 'gamma', '_i9', '_oh', 'exit', '_i1', '__torch', 'exp', 'open', 'quit', '__name__', '_jupyterlab_variableinspector_deletevariable', '__spec__', 'fmod', 'isqrt', '__', 'fabs', 'tau', 'nanj', '_1', 'isclose', '_jupyterlab_variableinspector_getmatrixcontent', '__package__', '_15', '_4', '_dh', '_i12', '_i2', 'nan', '_i11', '_i7', '_iii', '_ii', 'acosh', 'ldexp', 'prod', 'sinh', 'pi', 'rect', '_jupyterlab_variableinspector_dict_list', '_i8', 'dist'} \n",
      " Number items: 147\n"
     ]
    }
   ],
   "source": [
    "from cmath import *\n",
    "\n",
    "NS3 = set(dir())\n",
    "print(f\"Namespace 3: {NS3} \\n Number items: {len(NS3)}\")"
   ]
  },
  {
   "cell_type": "code",
   "execution_count": 16,
   "metadata": {},
   "outputs": [
    {
     "data": {
      "text/plain": [
       "{'NS2',\n",
       " '_10',\n",
       " '_11',\n",
       " '_12',\n",
       " '_14',\n",
       " '_15',\n",
       " '_i10',\n",
       " '_i11',\n",
       " '_i12',\n",
       " '_i13',\n",
       " '_i14',\n",
       " '_i15',\n",
       " 'infj',\n",
       " 'nanj',\n",
       " 'ns_diff_1',\n",
       " 'phase',\n",
       " 'polar',\n",
       " 'rect'}"
      ]
     },
     "execution_count": 16,
     "metadata": {},
     "output_type": "execute_result"
    }
   ],
   "source": [
    "NS3-NS2"
   ]
  },
  {
   "cell_type": "markdown",
   "metadata": {},
   "source": [
    "Now we use the square root function coming from the `cmath` module:"
   ]
  },
  {
   "cell_type": "code",
   "execution_count": 17,
   "metadata": {},
   "outputs": [
    {
     "name": "stdout",
     "output_type": "stream",
     "text": [
      "(12.00833044182246+0j)\n"
     ]
    }
   ],
   "source": [
    "print(sqrt(144.2))"
   ]
  },
  {
   "cell_type": "markdown",
   "metadata": {},
   "source": [
    "- Note the different values of $\\sqrt{144.2}$.\n",
    "- It is always important to know which functions are available in the namespace before they are called.\n",
    "- To avoid any collision/conflict, it is recommended not use the statement:\n",
    "\n",
    "```python\n",
    "   import module_name *\n",
    "```"
   ]
  },
  {
   "cell_type": "code",
   "execution_count": 18,
   "metadata": {},
   "outputs": [
    {
     "name": "stdout",
     "output_type": "stream",
     "text": [
      "12.00833044182246\n",
      "(12.00833044182246+0j)\n"
     ]
    }
   ],
   "source": [
    "import math\n",
    "import cmath\n",
    "print(math.sqrt(144.2))\n",
    "print(cmath.sqrt(144.2))"
   ]
  },
  {
   "cell_type": "markdown",
   "metadata": {},
   "source": [
    "# <font color=\"red\"> Recall: What is a Module? </font>\n",
    "\n",
    "- A __module__ is a Python file with the extension `.py`.\n",
    "\n",
    "- The name of the __module__ is the name of the `.py` file.\n",
    "- A __module__ can have a set of functions, classes, variables, constants, etc., defined and implemented. \n",
    "\n",
    "- We use the __import__ statement to gain access to all attributes and functions present in the __module_name__.\n",
    "\n",
    "- Access to functions and attributes is accomplished using the __module_name.method__ syntax.\n",
    "\n",
    "We use __modules__:\n",
    "  \n",
    "+ To break down large programs into small manageable and organized files (each containing classes, functions and other resources of similar relevance).\n",
    "+ To make the code easy to understand, use and maintain.\n",
    "+ To provide code reusability. We can define our most used functions or parameters in a module and import it, instead of copying their definitions into different programs."
   ]
  },
  {
   "cell_type": "markdown",
   "metadata": {},
   "source": [
    "### Sample Module: `temp.py`\n",
    "\n",
    "We create a the file `temp.py` that contains two functions."
   ]
  },
  {
   "cell_type": "code",
   "execution_count": 21,
   "metadata": {},
   "outputs": [
    {
     "name": "stdout",
     "output_type": "stream",
     "text": [
      "Writing temp.py\n"
     ]
    }
   ],
   "source": [
    "%%writefile temp.py\n",
    "\n",
    "zeroCelcius = 273.5  # zero degree Celcius in Kelvin\n",
    "\n",
    "def convert_celcius_to_kelvin(temperatureC):\n",
    "    return temperatureC + zeroCelcius\n",
    "\n",
    "def convert_kelvin_to_celcius(temperatureK):\n",
    "    return temperatureK - zeroCelcius    "
   ]
  },
  {
   "cell_type": "code",
   "execution_count": 22,
   "metadata": {},
   "outputs": [
    {
     "name": "stdout",
     "output_type": "stream",
     "text": [
      "\n",
      "zeroCelcius = 273.5  # zero degree Celcius in Kelvin\n",
      "\n",
      "def convert_celcius_to_kelvin(temperatureC):\n",
      "    return temperatureC + zeroCelcius\n",
      "\n",
      "def convert_kelvin_to_celcius(temperatureK):\n",
      "    return temperatureK - zeroCelcius    \n"
     ]
    }
   ],
   "source": [
    "!cat temp.py"
   ]
  },
  {
   "cell_type": "markdown",
   "metadata": {},
   "source": [
    "### Using the Sample Module"
   ]
  },
  {
   "cell_type": "code",
   "execution_count": 23,
   "metadata": {},
   "outputs": [],
   "source": [
    "import temp"
   ]
  },
  {
   "cell_type": "code",
   "execution_count": 24,
   "metadata": {},
   "outputs": [
    {
     "name": "stdout",
     "output_type": "stream",
     "text": [
      "['In', 'NS1', 'NS2', 'NS3', 'NamespaceMagics', 'Out', '_', '_1', '_10', '_11', '_12', '_14', '_15', '_16', '_17', '_18', '_19', '_2', '_20', '_21', '_22', '_23', '_24', '_3', '_4', '_5', '_6', '_7', '_8', '_9', '__', '__K', '___', '__builtin__', '__builtins__', '__doc__', '__import__', '__ipywidgets', '__loader__', '__name__', '__np', '__package__', '__pd', '__pyspark', '__session__', '__spec__', '__tf', '__torch', '__xr', '_attempt_import', '_check_imported', '_dh', '_exit_code', '_i', '_i1', '_i10', '_i11', '_i12', '_i13', '_i14', '_i15', '_i16', '_i17', '_i18', '_i19', '_i2', '_i20', '_i21', '_i22', '_i23', '_i24', '_i3', '_i4', '_i5', '_i6', '_i7', '_i8', '_i9', '_ih', '_ii', '_iii', '_jupyterlab_variableinspector_Jupyter', '_jupyterlab_variableinspector_default', '_jupyterlab_variableinspector_deletevariable', '_jupyterlab_variableinspector_dict_list', '_jupyterlab_variableinspector_displaywidget', '_jupyterlab_variableinspector_getcontentof', '_jupyterlab_variableinspector_getmatrixcontent', '_jupyterlab_variableinspector_getshapeof', '_jupyterlab_variableinspector_getsizeof', '_jupyterlab_variableinspector_is_matrix', '_jupyterlab_variableinspector_is_widget', '_jupyterlab_variableinspector_nms', '_oh', 'acos', 'acosh', 'asin', 'asinh', 'atan', 'atan2', 'atanh', 'cbrt', 'ceil', 'cmath', 'comb', 'copysign', 'cos', 'cosh', 'degrees', 'dist', 'e', 'erf', 'erfc', 'exit', 'exp', 'exp2', 'expm1', 'fabs', 'factorial', 'floor', 'fmod', 'frexp', 'fsum', 'gamma', 'gcd', 'get_ipython', 'hypot', 'inf', 'infj', 'isclose', 'isfinite', 'isinf', 'isnan', 'isqrt', 'json', 'lcm', 'ldexp', 'lgamma', 'log', 'log10', 'log1p', 'log2', 'math', 'modf', 'namespace_1', 'nan', 'nanj', 'nextafter', 'ns_diff_1', 'open', 'perm', 'phase', 'pi', 'polar', 'pow', 'prod', 'quit', 'radians', 'rect', 'remainder', 'sin', 'sinh', 'sqrt', 'sys', 'tan', 'tanh', 'tau', 'temp', 'trunc', 'ulp']\n"
     ]
    }
   ],
   "source": [
    "print(dir())"
   ]
  },
  {
   "cell_type": "code",
   "execution_count": 26,
   "metadata": {},
   "outputs": [
    {
     "name": "stdout",
     "output_type": "stream",
     "text": [
      "['__builtins__', '__cached__', '__doc__', '__file__', '__loader__', '__name__', '__package__', '__spec__', 'convert_celcius_to_kelvin', 'convert_kelvin_to_celcius', 'zeroCelcius']\n"
     ]
    }
   ],
   "source": [
    "print(dir(temp)) #This includes the functions aviLble in your temp.py module"
   ]
  },
  {
   "cell_type": "code",
   "execution_count": 27,
   "metadata": {},
   "outputs": [
    {
     "name": "stdout",
     "output_type": "stream",
     "text": [
      "['__annotations__', '__builtins__', '__call__', '__class__', '__closure__', '__code__', '__defaults__', '__delattr__', '__dict__', '__dir__', '__doc__', '__eq__', '__format__', '__ge__', '__get__', '__getattribute__', '__getstate__', '__globals__', '__gt__', '__hash__', '__init__', '__init_subclass__', '__kwdefaults__', '__le__', '__lt__', '__module__', '__name__', '__ne__', '__new__', '__qualname__', '__reduce__', '__reduce_ex__', '__repr__', '__setattr__', '__sizeof__', '__str__', '__subclasshook__']\n"
     ]
    }
   ],
   "source": [
    "print(dir(temp.convert_celcius_to_kelvin))"
   ]
  },
  {
   "cell_type": "code",
   "execution_count": 29,
   "metadata": {
    "slideshow": {
     "slide_type": "slide"
    }
   },
   "outputs": [
    {
     "name": "stdout",
     "output_type": "stream",
     "text": [
      "289.2\n"
     ]
    }
   ],
   "source": [
    "print(temp.convert_celcius_to_kelvin(15.7))"
   ]
  },
  {
   "cell_type": "code",
   "execution_count": 30,
   "metadata": {},
   "outputs": [
    {
     "ename": "NameError",
     "evalue": "name 'convert_kelvin_to_celcius' is not defined",
     "output_type": "error",
     "traceback": [
      "\u001b[0;31m---------------------------------------------------------------------------\u001b[0m",
      "\u001b[0;31mNameError\u001b[0m                                 Traceback (most recent call last)",
      "Cell \u001b[0;32mIn[30], line 1\u001b[0m\n\u001b[0;32m----> 1\u001b[0m \u001b[38;5;28mprint\u001b[39m(convert_kelvin_to_celcius(\u001b[38;5;241m302.9\u001b[39m))\n",
      "\u001b[0;31mNameError\u001b[0m: name 'convert_kelvin_to_celcius' is not defined"
     ]
    }
   ],
   "source": [
    "print(convert_kelvin_to_celcius(302.9)) #You have to specify which module you are using to access local namespaces"
   ]
  },
  {
   "cell_type": "code",
   "execution_count": null,
   "metadata": {
    "slideshow": {
     "slide_type": "fragment"
    }
   },
   "outputs": [],
   "source": [
    "from temp import convert_kelvin_to_celcius # Careful when using this\n",
    "print(convert_kelvin_to_celcius(294.1))"
   ]
  },
  {
   "cell_type": "code",
   "execution_count": null,
   "metadata": {
    "slideshow": {
     "slide_type": "fragment"
    }
   },
   "outputs": [],
   "source": [
    "from temp import *  # Discouraged"
   ]
  },
  {
   "cell_type": "markdown",
   "metadata": {
    "slideshow": {
     "slide_type": "slide"
    }
   },
   "source": [
    "### Running a Module as a Script\n",
    "\n",
    "- When Python runs a module it sets up a bunch of variables - one of then is `__name__`. \n",
    "\n",
    "- `__name__` is set as `\"__main__\"` when the module is run as a the main program.\n",
    "\n",
    "- If the code is importing the module from another module, then the `__name__` variable will be set to that module name."
   ]
  },
  {
   "cell_type": "markdown",
   "metadata": {
    "slideshow": {
     "slide_type": "slide"
    }
   },
   "source": [
    "When you see the following line in a module:\n",
    "    \n",
    "```python\n",
    "if __name__ == '__main__':\n",
    "    # Python code\n",
    "```\n",
    "\n",
    "it means that we want to be able to test and run the module separately other than just importing it.\n",
    "\n",
    "This can help us test defined functions before they are used outside the module.\n",
    "        "
   ]
  },
  {
   "cell_type": "code",
   "execution_count": 40,
   "metadata": {},
   "outputs": [
    {
     "name": "stdout",
     "output_type": "stream",
     "text": [
      "Overwriting temp_with_main.py\n"
     ]
    }
   ],
   "source": [
    "%%writefile temp_with_main.py\n",
    "\n",
    "zeroCelcius = 273.5  # zero degree Celcius in Kelvin\n",
    "\n",
    "def convert_celcius_to_kelvin(temperatureC):\n",
    "    return temperatureC + zeroCelcius\n",
    "\n",
    "def convert_kelvin_to_celcius(temperatureK):\n",
    "    return temperatureK - zeroCelcius\n",
    "\n",
    "if __name__ == '__main__':\n",
    "    print (convert_celcius_to_kelvin(15.7))\n",
    "    print (convert_kelvin_to_celcius(302.9))"
   ]
  },
  {
   "cell_type": "code",
   "execution_count": 41,
   "metadata": {},
   "outputs": [],
   "source": [
    "#import temp_with_main"
   ]
  },
  {
   "cell_type": "code",
   "execution_count": 43,
   "metadata": {
    "slideshow": {
     "slide_type": "skip"
    }
   },
   "outputs": [
    {
     "name": "stdout",
     "output_type": "stream",
     "text": [
      "289.2\n",
      "29.399999999999977\n"
     ]
    }
   ],
   "source": [
    "!python temp_with_main.py #can run it without importing now, just to do tests etc"
   ]
  },
  {
   "cell_type": "markdown",
   "metadata": {},
   "source": [
    "### Python Module Search Path\n",
    "\n",
    "- While importing a module, Python looks at several places. \n",
    "    - Python first looks for a built-in module. \n",
    "    - If a built-in module is not found, Python looks into a list of directories defined in `sys.path`. \n",
    "- The search is in this order.\n",
    "    * The current directory.\n",
    "    * The `PYTHONPATH` environment variable that has a list of directories.\n",
    "    * The installation-dependent default directory.\n",
    "    \n",
    "The following code segment shows the current module search path:"
   ]
  },
  {
   "cell_type": "code",
   "execution_count": 44,
   "metadata": {},
   "outputs": [
    {
     "name": "stdout",
     "output_type": "stream",
     "text": [
      "/Users/arhulber/astg_pymaterials/packaging\n",
      "/opt/anaconda3/lib/python311.zip\n",
      "/opt/anaconda3/lib/python3.11\n",
      "/opt/anaconda3/lib/python3.11/lib-dynload\n",
      "\n",
      "/opt/anaconda3/lib/python3.11/site-packages\n",
      "/opt/anaconda3/lib/python3.11/site-packages/aeosa\n",
      "/Users/arhulber/AMGeO\n",
      "/opt/anaconda3/lib/python3.11/site-packages/fonttools-4.53.0-py3.11.egg\n",
      "/Users/arhulber/AMGeO/src/apexpython\n",
      "/Users/arhulber/AMGeO/src/nasaomnireader\n",
      "/Users/arhulber/AMGeO/src/geospacepy\n",
      "/Users/arhulber/AMGeO/src/ovationpyme\n"
     ]
    }
   ],
   "source": [
    "import sys\n",
    "for path in sys.path:\n",
    "    print(path)"
   ]
  },
  {
   "cell_type": "markdown",
   "metadata": {},
   "source": [
    "### Where to Include a new Module\n",
    "\n",
    "To make sure Python can always find the `module_name.py`, you need to:\n",
    "\n",
    "- Place `module_name.py` in the folder where the program will execute.\n",
    "- Include the folder that contains the `module_name.py` in the `PYTHONPATH` environment variable. Or you can place the `module_name.py` in one of the folders included in the `PYTHONPATH` variable.\n",
    "- Place the `module_name.py` in one of the installation-dependent folders."
   ]
  },
  {
   "cell_type": "markdown",
   "metadata": {},
   "source": [
    "### Extending Module Load Path\n",
    "\n",
    "There are a couple of ways we could tell the Python interpreter where to look for modules, aside from the default, which is the local directory and the built-in modules. \n",
    "\n",
    "You can use the environment variable `PYTHONPATH` to specify additional directories to look for modules:\n",
    "\n",
    "```cshell\n",
    "   set PYTHONPATH = (full_path_to_my_module $PYTHONPATH)\n",
    "```\n",
    "\n",
    "```bash\n",
    "   export PYTHONPATH=\"full_path_to_my_module:$PYTHONPATH\"\n",
    "```\n",
    "\n",
    "Another method is the `sys.path.append` function that you need to call before running an import command:\n",
    "\n",
    "```python\n",
    "   import sys\n",
    "   sys.path.append(full_path_to_my_module)\n",
    "   import module_name\n",
    "```"
   ]
  },
  {
   "cell_type": "markdown",
   "metadata": {
    "slideshow": {
     "slide_type": "slide"
    }
   },
   "source": [
    "# <font color=\"red\"> Create a Package</font>\n",
    "\n",
    "## <font color=\"blue\">What is a Package? It is a collection oif modules organized in a specific directory style</font>\n",
    "\n",
    "- Python packages are a core element of the Python programming language and are how you write reusable and shareable code in Python. \n",
    "- A __package__ bundles together code (such as functions, classes, variables, or scripts) so that it can be easily reused across different projects.\n",
    "- A __package__ is organized in a directory structure of Python modules.\n",
    "   - It is basically a directory with Python files and a file with the name `__init__.py`.\n",
    "- Every directory inside of the Python path, which contains a file named `__init__.py`, will be treated as a package by Python. \n",
    "- We create a __package__ to:\n",
    "    - Share our code with other people.\n",
    "    - Add more structure to our code and make it more modular, reusable and maintainable."
   ]
  },
  {
   "cell_type": "markdown",
   "metadata": {},
   "source": [
    "## <font color=\"blue\">Importance of Creating a Package</font>\n",
    "\n",
    "You need to consider writing a package at least for the following reasons:\n",
    "\n",
    "- To practice writing good code. \n",
    "- To facilitate sharing your code with others.\n",
    "- To help you easily reuse and maintain your code across multiple projects.\n",
    "- To organize and document your code, such that it can be easily understood and used at a later time.\n",
    "\n",
    "\n",
    "**When you create a package, name it using lowercase and underscore-separated or no word separators at all.**"
   ]
  },
  {
   "cell_type": "markdown",
   "metadata": {
    "slideshow": {
     "slide_type": "fragment"
    }
   },
   "source": [
    "## <font color=\"blue\">Directory Structure of a Package</font>\n",
    "\n",
    "Assume that you want to create the package named `package_name`, consider the following directory structure (other options are available):\n",
    "\n",
    "```\n",
    "package_name/\n",
    "    setup.py\n",
    "    LICENSE\n",
    "    README.md\n",
    "    package_name/\n",
    "        __init__.py\n",
    "        subpackage_1/\n",
    "            __init__.py\n",
    "            submodule1_1.py\n",
    "            submodule1_2.py\n",
    "        subpackage_2/\n",
    "            __init__.py\n",
    "            submodule2_1.py\n",
    "            submodule2_2.py\n",
    "            submodule2_3.py\n",
    "```"
   ]
  },
  {
   "cell_type": "markdown",
   "metadata": {},
   "source": [
    "* The top level directory will be the root of the (future) repository, i.e., **package_name**. \n",
    "   - The subdirectory, also called **package_name** is the actual Python module.\n",
    "* Apart from the top level one, the file **<font color=\"red\">\\_\\_init\\_\\_.py</font>** is an empty file.\n"
   ]
  },
  {
   "cell_type": "markdown",
   "metadata": {},
   "source": [
    "### Top Level **<font color=\"red\">\\_\\_init\\_\\_.py</font>** File"
   ]
  },
  {
   "cell_type": "code",
   "execution_count": 45,
   "metadata": {},
   "outputs": [
    {
     "ename": "ImportError",
     "evalue": "attempted relative import with no known parent package",
     "output_type": "error",
     "traceback": [
      "\u001b[0;31m---------------------------------------------------------------------------\u001b[0m",
      "\u001b[0;31mImportError\u001b[0m                               Traceback (most recent call last)",
      "Cell \u001b[0;32mIn[45], line 4\u001b[0m\n\u001b[1;32m      1\u001b[0m \u001b[38;5;124;03m\"\"\"\u001b[39;00m\n\u001b[1;32m      2\u001b[0m \u001b[38;5;124;03m   Provide a description of the module\u001b[39;00m\n\u001b[1;32m      3\u001b[0m \u001b[38;5;124;03m\"\"\"\u001b[39;00m\n\u001b[0;32m----> 4\u001b[0m \u001b[38;5;28;01mfrom\u001b[39;00m \u001b[38;5;21;01m.\u001b[39;00m \u001b[38;5;28;01mimport\u001b[39;00m subpackage_1\n\u001b[1;32m      5\u001b[0m \u001b[38;5;28;01mfrom\u001b[39;00m \u001b[38;5;21;01m.\u001b[39;00m \u001b[38;5;28;01mimport\u001b[39;00m subpackage_2\n\u001b[1;32m      7\u001b[0m name \u001b[38;5;241m=\u001b[39m package_name\n",
      "\u001b[0;31mImportError\u001b[0m: attempted relative import with no known parent package"
     ]
    }
   ],
   "source": [
    "\"\"\"\n",
    "   Provide a description of the module\n",
    "\"\"\"\n",
    "from . import subpackage_1\n",
    "from . import subpackage_2\n",
    "\n",
    "name = package_name\n"
   ]
  },
  {
   "cell_type": "markdown",
   "metadata": {},
   "source": [
    "### Creating the  <font color=\"red\">setup.py</font>  File \n",
    "\n",
    "```python\n",
    "import setuptools\n",
    "\n",
    "with open(\"README.md\", \"r\") as fh:\n",
    "    long_description = fh.read()\n",
    "\n",
    "setuptools.setup(\n",
    "    name=\"package_name\",\n",
    "    version=\"0.1\",\n",
    "    author=\"first_name last_name\",\n",
    "    author_email=\"your_user_id@example.com\",\n",
    "    description=\"A small example package\",\n",
    "    long_description=long_description,\n",
    "    long_description_content_type=\"text/markdown\",\n",
    "    url=\"https://github.com/github_user_id/package_name\",\n",
    "    packages=setuptools.find_packages(),\n",
    "    classifiers=[\n",
    "        \"Programming Language :: Python :: 3\",\n",
    "        \"License :: OSI Approved :: MIT License\",\n",
    "        \"Operating System :: OS Independent\",\n",
    "    ],\n",
    ")\n",
    "```"
   ]
  },
  {
   "cell_type": "markdown",
   "metadata": {},
   "source": [
    "#### Creating the <font color='red'> README.md </font> File"
   ]
  },
  {
   "cell_type": "markdown",
   "metadata": {},
   "source": [
    "### Welcome to package_name\n",
    "\n",
    "This is a simple example package. You can use\n",
    "[Github-flavored Markdown](https://guides.github.com/features/mastering-markdown/)\n",
    "to write your content."
   ]
  },
  {
   "cell_type": "markdown",
   "metadata": {},
   "source": [
    "#### Creating the <font color='red'> LICENSE </font> File\n",
    "\n",
    "```\n",
    "Copyright (c) 2019 The Python Packaging Authority\n",
    "\n",
    "Permission is hereby granted, free of charge, to any person \n",
    "obtaining a copy of this software and associated documentation \n",
    "files (the \"Software\"), to deal in the Software without \n",
    "restriction, including without limitation the rights to use, \n",
    "copy, modify, merge, publish, distribute, sublicense, \n",
    "and/or sell copies of the Software, and to permit persons \n",
    "to whom the Software is furnished to do so, subject to \n",
    "the following conditions:\n",
    "\n",
    "The above copyright notice and this permission notice shall \n",
    "be included in allcopies or substantial portions of the Software.\n",
    "\n",
    "THE SOFTWARE IS PROVIDED \"AS IS\", WITHOUT WARRANTY OF ANY KIND, \n",
    "EXPRESS OR IMPLIED, INCLUDING BUT NOT LIMITED TO THE WARRANTIES \n",
    "OF MERCHANTABILITY, FITNESS FOR A PARTICULAR PURPOSE AND \n",
    "NONINFRINGEMENT. IN NO EVENT SHALL THE AUTHORS OR COPYRIGHT \n",
    "HOLDERS BE LIABLE FOR ANY CLAIM, DAMAGES OR OTHER LIABILITY, \n",
    "WHETHER IN AN ACTION OF CONTRACT, TORT OR OTHERWISE, \n",
    "ARISING FROM, OUT OF OR IN CONNECTION WITH THE SOFTWARE OR \n",
    "THE USE OR OTHER DEALINGS IN THE SOFTWARE.\n",
    "```"
   ]
  },
  {
   "cell_type": "markdown",
   "metadata": {},
   "source": [
    "## <font color=\"blue\">Locally Install the Package</font>"
   ]
  },
  {
   "cell_type": "markdown",
   "metadata": {},
   "source": [
    "You can install the package locally (for use on our system), with:\n",
    "\n",
    "```shell\n",
    "    $ pip install .\n",
    "```"
   ]
  },
  {
   "cell_type": "markdown",
   "metadata": {},
   "source": [
    "You can also install the package with a symlink, so that changes to the source files will be immediately available to other users of the package on our system:\n",
    "\n",
    "```shell\n",
    "    $ pip install -e .\n",
    "```"
   ]
  },
  {
   "cell_type": "markdown",
   "metadata": {},
   "source": [
    "Anywhere else in your system using the same Python, we can do this now:\n",
    "\n",
    "```python\n",
    "    import package_name\n",
    "    package_name.submodule2_3.calc()\n",
    "```"
   ]
  },
  {
   "cell_type": "markdown",
   "metadata": {},
   "source": [
    "## <font color=\"blue\">Publishing Your Package On PyPI</font>"
   ]
  },
  {
   "cell_type": "markdown",
   "metadata": {},
   "source": [
    "* [PyPl](pypi.python.org) (Python Package Index) is an open-source repository for all Python projects offered by developers worldwide. \n",
    "* With PyPI, anyone can install and use your code on their local devices.\n",
    "* If you haven’t published things on PyPI before, you’ll need to create an account.\n",
    "* The `setup.py` script is your main entrypoint to register the package name on PyPI and upload source distributions.\n",
    "\n",
    "\n",
    "To “register” the package (this will reserve the name, upload package metadata, and create the [PyPl](pypi.python.org) webpage):\n",
    "\n",
    "```shell\n",
    "             $ python setup.py register\n",
    "```\n",
    "\n",
    "Your package will appear in:\n",
    "   \n",
    "       http://pypi.python.org/pypi/package_name/0.1"
   ]
  },
  {
   "cell_type": "markdown",
   "metadata": {},
   "source": [
    "* If you haven’t published things on PyPI before, you’ll need to create an account.\n",
    "* Your package will appear in:\n",
    "   \n",
    "       http://pypi.python.org/pypi/package_name/0.1"
   ]
  },
  {
   "cell_type": "markdown",
   "metadata": {},
   "source": [
    "## <font color=\"blue\">Installing the Package</font>\n",
    "\n",
    "After you published your package in PyPl, other people can install it in their local Python distribution using `pip`:\n",
    "\n",
    "```shell\n",
    "       $ pip install package_name\n",
    "```"
   ]
  },
  {
   "cell_type": "markdown",
   "metadata": {},
   "source": []
  },
  {
   "cell_type": "markdown",
   "metadata": {},
   "source": [
    "## Search a Package"
   ]
  },
  {
   "cell_type": "markdown",
   "metadata": {
    "slideshow": {
     "slide_type": "slide"
    }
   },
   "source": [
    "```python\n",
    "from package_name.module_name import function_in_module\n",
    "```\n",
    "\n",
    "#### In your `__init__.py` file\n",
    "\n",
    "```python\n",
    "from module_name import function_in_module\n",
    "```\n",
    "\n",
    "#### `import submodule2_3` from `subpackage_2`\n",
    "\n",
    "```python\n",
    "from subpackage_name import module_name\n",
    "```"
   ]
  },
  {
   "cell_type": "markdown",
   "metadata": {
    "slideshow": {
     "slide_type": "slide"
    }
   },
   "source": [
    "How does Python find packages and modules?\n",
    "\n",
    "Python imports work by searching the directories listed in sys.path. "
   ]
  },
  {
   "cell_type": "code",
   "execution_count": null,
   "metadata": {
    "slideshow": {
     "slide_type": "fragment"
    }
   },
   "outputs": [],
   "source": [
    "import sys\n",
    "print('\\n'.join(sys.path))"
   ]
  },
  {
   "cell_type": "code",
   "execution_count": null,
   "metadata": {
    "slideshow": {
     "slide_type": "slide"
    }
   },
   "outputs": [],
   "source": [
    "# where the module is in your filesystem\n",
    "import numpy\n",
    "print(numpy.__file__)"
   ]
  },
  {
   "cell_type": "code",
   "execution_count": null,
   "metadata": {
    "slideshow": {
     "slide_type": "slide"
    }
   },
   "outputs": [],
   "source": [
    "# explore entire import system through the imp module.\n",
    "import imp\n",
    "imp.find_module('numpy')"
   ]
  },
  {
   "cell_type": "code",
   "execution_count": null,
   "metadata": {
    "slideshow": {
     "slide_type": "slide"
    }
   },
   "outputs": [],
   "source": [
    "# Getting file path of imported module\n",
    "import os.path\n",
    "import area\n",
    "\n",
    "print (os.path.abspath(area.__file__))"
   ]
  },
  {
   "cell_type": "markdown",
   "metadata": {},
   "source": [
    "# <font color=\"red\"> YAML</font>\n",
    "\n",
    "> **YAML Ain’t Markup Language (YAML)** is a data serialization language for most programming languages.\n",
    "\n",
    "- YAML is mostly used for configuration files in projects and it’s super easy to understand and read the code.\n",
    "- The file extension for YAML files is `.yaml` or `.yml`.\n",
    "- The YAML follows indentation syntax similar to Python. But, it doesn’t allow **tab** for indentation.\n",
    "\n",
    "**We want to use a `.yaml` file to pass values (to be converted) to our application.**"
   ]
  },
  {
   "cell_type": "markdown",
   "metadata": {},
   "source": [
    "**Sample YAML File**\n",
    "\n",
    "- We create a YAML file that has two sections: `KtoC` and `CtoK`.\n",
    "- Each section sets the `vals` variable."
   ]
  },
  {
   "cell_type": "code",
   "execution_count": null,
   "metadata": {},
   "outputs": [],
   "source": [
    "%%writefile sample_temp_input.yaml\n",
    "---\n",
    "KtoC:\n",
    "    vals: 302.9\n",
    "\n",
    "CtoK:\n",
    "    vals: 15.7"
   ]
  },
  {
   "cell_type": "markdown",
   "metadata": {},
   "source": [
    "**Reading a YAML File**"
   ]
  },
  {
   "cell_type": "code",
   "execution_count": null,
   "metadata": {},
   "outputs": [],
   "source": [
    "import yaml\n",
    "\n",
    "with open(\"sample_temp_input.yaml\", 'r') as fid:\n",
    "     yaml_content = yaml.safe_load(fid)\n",
    "\n",
    "print(\"Key: Value\")\n",
    "for key, value in yaml_content.items():\n",
    "    print(f\"{key}: {value}\")"
   ]
  },
  {
   "cell_type": "markdown",
   "metadata": {},
   "source": [
    "Reading the YAML file creates a dictionary which:\n",
    "- Keys are the different sections, and\n",
    "- Values are themselves dictionaries of variables and associated values in the YAML file."
   ]
  },
  {
   "cell_type": "markdown",
   "metadata": {},
   "source": [
    "We can create a similar YAML file where `vals` is a list of numbers:"
   ]
  },
  {
   "cell_type": "code",
   "execution_count": null,
   "metadata": {},
   "outputs": [],
   "source": [
    "%%writefile sample_temp_input.yaml\n",
    "---\n",
    "KtoC:\n",
    "    vals: [302.9, 283.5, 269.8]\n",
    "\n",
    "CtoK:\n",
    "    vals: [15.7, -6.5, 23.7, 34.2]"
   ]
  },
  {
   "cell_type": "code",
   "execution_count": null,
   "metadata": {},
   "outputs": [],
   "source": [
    "with open(\"sample_temp_input.yaml\", 'r') as yaml_file:\n",
    "     yaml_content = yaml.load(yaml_file, yaml.Loader)\n",
    "\n",
    "print(\"Key: Value\")\n",
    "for key, value in yaml_content.items():\n",
    "    print(f\"{key}: {value}\")"
   ]
  },
  {
   "cell_type": "markdown",
   "metadata": {},
   "source": [
    "# <font color=\"red\">Breakout</font>\n",
    "\n",
    "We want to create a package name `temp_conversion` that has the following directory structure:\n",
    "\n",
    "```\n",
    "temp_conversion/\n",
    "    setup.py\n",
    "    LICENSE\n",
    "    README.md\n",
    "    temp_conversion/\n",
    "        README.md\n",
    "        __init__.py\n",
    "        main.py\n",
    "        input_file.yaml\n",
    "        functions/\n",
    "            __init__.py\n",
    "            temperature_functions.py\n",
    "        shared/\n",
    "            __init__.py\n",
    "            constants.py\n",
    "```\n",
    "Here:\n",
    "\n",
    "- `temperature_functions.py`: module containing all the conversion functions.\n",
    "- `constants.py`: module containing the constant parameters needed in `temperature_functions.py`.\n",
    "- `input_file.yaml`: YAML file used as input to `main.py`. It is organized as pairs of keys (type of conversion) and values (temperatuture values to be converted). \n",
    "- `main.py`: code to perform conversions from one unit to another. It requires a YAML file as input.\n"
   ]
  },
  {
   "cell_type": "code",
   "execution_count": null,
   "metadata": {},
   "outputs": [],
   "source": []
  }
 ],
 "metadata": {
  "anaconda-cloud": {},
  "kernelspec": {
   "display_name": "Python 3 (ipykernel)",
   "language": "python",
   "name": "python3"
  },
  "language_info": {
   "codemirror_mode": {
    "name": "ipython",
    "version": 3
   },
   "file_extension": ".py",
   "mimetype": "text/x-python",
   "name": "python",
   "nbconvert_exporter": "python",
   "pygments_lexer": "ipython3",
   "version": "3.11.8"
  }
 },
 "nbformat": 4,
 "nbformat_minor": 4
}
